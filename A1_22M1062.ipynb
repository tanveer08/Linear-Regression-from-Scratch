{
  "cells": [
    {
      "cell_type": "markdown",
      "metadata": {
        "id": "CD_w2UljCDuo"
      },
      "source": [
        "## **Name : Tanveer Sharma** </br>\n",
        "## **Roll Number : 22M1062**"
      ]
    },
    {
      "cell_type": "markdown",
      "metadata": {
        "id": "lqgv63TVqUQQ"
      },
      "source": [
        "# Assignment 1 Linear Regression from Scratch\n",
        "Link for video explanation  : https://iitbacin-my.sharepoint.com/:v:/g/personal/22m1062_iitb_ac_in/EUw_5BZbrpNGgsB8-L063_cBFVXADajH5BHtWcqfVYBLeg?e=DsLkr2"
      ]
    },
    {
      "cell_type": "code",
      "execution_count": 2,
      "metadata": {
        "id": "2SDt1--pr1Le"
      },
      "outputs": [],
      "source": [
        "# Importing Libraries\n",
        "import numpy as np\n",
        "import matplotlib.pyplot as plt\n",
        "import time\n",
        "from sklearn.model_selection import train_test_split #only used to split dta into test and train"
      ]
    },
    {
      "cell_type": "markdown",
      "metadata": {
        "id": "mpCEQ41z6VKm"
      },
      "source": [
        "#### Task 1 Function to generate a data matrix X."
      ]
    },
    {
      "cell_type": "code",
      "execution_count": 3,
      "metadata": {
        "id": "nkDDjw1kqpkp"
      },
      "outputs": [],
      "source": [
        "def input_x(samples=5,dimension=3):# default sample size 5 and dimensions =3\n",
        "  in_x1=np.ndarray(shape=(samples,dimension))\n",
        "  for i in range(samples):\n",
        "    for j in range(dimension):\n",
        "       in_x1[i,j]=np.random.normal(0,5)#chosen random distribution with zero mean and variance 5\n",
        "    in_x1[i,0]=1#to set first column as 1\n",
        "  return in_x1"
      ]
    },
    {
      "cell_type": "markdown",
      "metadata": {
        "id": "ZLomQdo658le"
      },
      "source": [
        "Comment : Here I have Chosen a normal distribution with mean 0 and variance 10 to generate the  input values"
      ]
    },
    {
      "cell_type": "code",
      "execution_count": 4,
      "metadata": {
        "colab": {
          "base_uri": "https://localhost:8080/"
        },
        "id": "-SLfae3GrBzl",
        "outputId": "65fa094d-ed5e-4691-bfb4-8ac3fb6a8b8c"
      },
      "outputs": [
        {
          "output_type": "stream",
          "name": "stdout",
          "text": [
            "[[  1.          -3.05878207  -2.64085876]\n",
            " [  1.           4.32703815 -11.50769348]\n",
            " [  1.          -3.8060345    1.59519548]\n",
            " [  1.           7.31053969 -10.30070355]\n",
            " [  1.          -1.92027177   5.66884721]]\n"
          ]
        }
      ],
      "source": [
        "#testCode\n",
        "np.random.seed(1)\n",
        "inp_X=input_x()\n",
        "print(inp_X)"
      ]
    },
    {
      "cell_type": "markdown",
      "metadata": {
        "id": "vbyv4xg-6bAs"
      },
      "source": [
        "#### Task 2 Function to generate dependent variable column t i.e. Target Value"
      ]
    },
    {
      "cell_type": "code",
      "execution_count": 5,
      "metadata": {
        "id": "TIA9AVpc6d1R"
      },
      "outputs": [],
      "source": [
        "def out_t(in_x,weight,w_0=2,noise_var=1):#default values 2 and 1 for w0 and noise_var respectively\n",
        "  weight[0]=0# making first element zero to remove bias(may not be required)\n",
        "  t=w_0*np.ones(in_x.shape[0])+in_x.dot(weight)+np.random.normal(0,noise_var,size=in_x.shape[0])#shape=0 gives samples\n",
        "  return t\n"
      ]
    },
    {
      "cell_type": "code",
      "source": [
        "#testCode\n",
        "np.random.seed(1)\n",
        "in_x=input_x(10,5)\n",
        "print(in_x.shape[0])\n",
        "w=np.array([1,1,1,1,1])\n",
        "w0=10\n",
        "t1=out_t(in_x,w)\n",
        "print(t1)"
      ],
      "metadata": {
        "colab": {
          "base_uri": "https://localhost:8080/"
        },
        "id": "dvuYztos9DTg",
        "outputId": "ab743379-63e0-4706-9f50-1d90b9c68928"
      },
      "execution_count": 6,
      "outputs": [
        {
          "output_type": "stream",
          "name": "stdout",
          "text": [
            "10\n",
            "[ -4.43727547   6.91411807  -7.30673233  -0.47563105  19.03942936\n",
            "  -1.39433817 -10.16290658  10.52586052   2.82796282  18.02780458]\n"
          ]
        }
      ]
    },
    {
      "cell_type": "markdown",
      "metadata": {
        "id": "AVGTv3Gthkav"
      },
      "source": [
        "#### Task 3"
      ]
    },
    {
      "cell_type": "code",
      "execution_count": 7,
      "metadata": {
        "id": "YO0ZHdBohokZ"
      },
      "outputs": [],
      "source": [
        "def lin_reg(in_x,w):\n",
        "  out_y=in_x.dot(w)#linear reg\n",
        "  return out_y"
      ]
    },
    {
      "cell_type": "code",
      "source": [
        "#testCode\n",
        "np.random.seed(1)\n",
        "x1=input_x(5,3)\n",
        "w1=np.array([2,2,1])\n",
        "out1=lin_reg(x1,w1)\n",
        "print(out1)"
      ],
      "metadata": {
        "colab": {
          "base_uri": "https://localhost:8080/"
        },
        "id": "Wt_yOonE9c84",
        "outputId": "32d8a56b-0c92-40e8-bfa3-9554c7d2133c"
      },
      "execution_count": 8,
      "outputs": [
        {
          "output_type": "stream",
          "name": "stdout",
          "text": [
            "[-6.7584229  -0.85361719 -4.01687353  6.32037582  3.82830366]\n"
          ]
        }
      ]
    },
    {
      "cell_type": "markdown",
      "metadata": {
        "id": "tPbFHQ0kHLFU"
      },
      "source": [
        "Comment : dot is used for matrix multiplication.(*) will not work here.Dot can be also changed with @ sign."
      ]
    },
    {
      "cell_type": "markdown",
      "metadata": {
        "id": "KdI4KBLPh88U"
      },
      "source": [
        "### Task 4 MSE between t and y "
      ]
    },
    {
      "cell_type": "code",
      "execution_count": 9,
      "metadata": {
        "colab": {
          "base_uri": "https://localhost:8080/"
        },
        "id": "2jXd8wYniI0s",
        "outputId": "be0443a8-e926-44bc-99c8-a54a0ddc33e4"
      },
      "outputs": [
        {
          "output_type": "stream",
          "name": "stdout",
          "text": [
            "[[1 2 3 4 5]\n",
            " [1 2 3 4 5]] [[1 3 2 5 4]\n",
            " [1 3 2 5 4]]\n",
            "0.8\n"
          ]
        }
      ],
      "source": [
        "def mean_square_error (t,y):\n",
        "  mse=np.mean((t-y)**2)#np.mean is used to find mean\n",
        "  return mse\n",
        "#testCode\n",
        "t=np.array([[1,2,3,4,5],[1,2,3,4,5]])\n",
        "y=np.array([[1,3,2,5,4],[1,3,2,5,4]])\n",
        "print(t,y)\n",
        "mse=mean_square_error(t,y)\n",
        "print(mse)"
      ]
    },
    {
      "cell_type": "markdown",
      "metadata": {
        "id": "3bdjz1QDI1Uf"
      },
      "source": [
        "Comment : t.shape[1] implies columns(dimensions) ot t"
      ]
    },
    {
      "cell_type": "markdown",
      "metadata": {
        "id": "_oFzuWzwk4pk"
      },
      "source": [
        "### Task 5 Estimating weight using pseudo-inverse, assuming L2 regularization"
      ]
    },
    {
      "cell_type": "code",
      "execution_count": 10,
      "metadata": {
        "id": "LIZ3_gFOk2do",
        "colab": {
          "base_uri": "https://localhost:8080/"
        },
        "outputId": "308fd015-46e0-4356-a12f-ec9820412132"
      },
      "outputs": [
        {
          "output_type": "stream",
          "name": "stdout",
          "text": [
            "[-238.09119073  438.56758438 -242.84382787 -288.56692302   44.91970089\n",
            " -230.38183417  625.19935914 -366.05666547  407.00586148  299.0185906\n",
            "  570.90166168   34.75212798]\n",
            "Updated Weights [ 4.87828758 22.86790514 54.18242611  7.91868071  8.80975581]\n",
            "24.819381851619227\n",
            "[-225.31588171  439.59438245 -249.92930372 -289.68188331   39.0349651\n",
            " -229.7789748   627.63661259 -367.95303534  403.35086361  296.80566667\n",
            "  571.02547731   39.14772727]\n"
          ]
        }
      ],
      "source": [
        "def weight_pseudo_in (in_x,t,parameter_lambda):\n",
        "  w = (np.linalg.inv(in_x.T.dot(in_x) + parameter_lambda*np.identity(in_x.shape[1]))).dot(in_x.T.dot(t))#shape 1  is to chose dimensions size\n",
        "  y=lin_reg(in_x,w)\n",
        "  mse_pseudo_in=mean_square_error(t,y)\n",
        "  return w,y,mse_pseudo_in\n",
        "#testCode\n",
        "X = input_x(12,5)\n",
        "w = np.array([1,23,54,8,9])\n",
        "t=out_t(X,w,5,7)\n",
        "print(t)\n",
        "w1,y,mse_pseudo_in=weight_pseudo_in(X,t,0.1)\n",
        "print('Updated Weights',w1)\n",
        "print(mse_pseudo_in)\n",
        "print(y)\n"
      ]
    },
    {
      "cell_type": "markdown",
      "metadata": {
        "id": "DrViBJla-fR0"
      },
      "source": [
        "Comment : x.shape[1] implies columns(dimensions) ot x.It has been used $ϕ^t*ϕ$ is a square matrix of form [dimension,dimension]. "
      ]
    },
    {
      "cell_type": "markdown",
      "metadata": {
        "id": "pCr-xEPCBy2i"
      },
      "source": [
        "#### Task 6 Gradient of MSE wrt W"
      ]
    },
    {
      "cell_type": "code",
      "execution_count": 36,
      "metadata": {
        "colab": {
          "base_uri": "https://localhost:8080/"
        },
        "id": "uJjPaBbb5zT9",
        "outputId": "71d4b49a-96ee-4eb4-cf92-ad6cec702c67"
      },
      "outputs": [
        {
          "output_type": "stream",
          "name": "stdout",
          "text": [
            "[ 12.57237314   1.97971186   7.49622175 -11.90862882   9.0945307 ]\n",
            "[-89.53158274 284.88804745]\n"
          ]
        }
      ],
      "source": [
        "def gradient_mse(X,t,w):\n",
        "    y = lin_reg(X,w)\n",
        "    error = y-t\n",
        "    grad = 2*X.T.dot(error)\n",
        "    return grad\n",
        "\n",
        "#testCode\n",
        "X = input_x(5,2)\n",
        "t = np.array([12, 12, 13,15,12])\n",
        "w = np.array([1, 2])\n",
        "print(X.dot(w))\n",
        "grad = gradient_mse(X, t, w)\n",
        "print(grad)\n"
      ]
    },
    {
      "cell_type": "markdown",
      "metadata": {
        "id": "sxxhChGpAr2O"
      },
      "source": [
        "#### Task 7 L2 Norm of Weight Vector W(excluding w0)"
      ]
    },
    {
      "cell_type": "code",
      "execution_count": 12,
      "metadata": {
        "colab": {
          "base_uri": "https://localhost:8080/"
        },
        "id": "XQZfu_c7Bk5i",
        "outputId": "bfa55621-c380-4cfa-f6dd-9c01a837caae"
      },
      "outputs": [
        {
          "output_type": "stream",
          "name": "stdout",
          "text": [
            "9.1104335791443\n"
          ]
        }
      ],
      "source": [
        "def l2_norm (w):\n",
        "  return np.linalg.norm(w[1:])#excluding first element\n",
        "#testCode\n",
        "w=np.array([1,3,5,7])\n",
        "out=l2_norm(w)\n",
        "print(out)"
      ]
    },
    {
      "cell_type": "markdown",
      "metadata": {
        "id": "gDBEM5a_y6nP"
      },
      "source": [
        "#### Task 8 Gradient of L2 norm with respect to the weight vectors"
      ]
    },
    {
      "cell_type": "code",
      "execution_count": 13,
      "metadata": {
        "id": "6heWuYGLy41_",
        "colab": {
          "base_uri": "https://localhost:8080/"
        },
        "outputId": "148fc604-28a3-4ede-bac5-ca3e166e6162"
      },
      "outputs": [
        {
          "output_type": "stream",
          "name": "stdout",
          "text": [
            "[ 0 -8 10]\n"
          ]
        }
      ],
      "source": [
        "def grad_l2_wrt_weight(weight):\n",
        "  gradient_l2=2*weight\n",
        "  gradient_l2[0]=0#to discard first value here\n",
        "  return gradient_l2\n",
        "#testCode\n",
        "weight=np.array([2,-4,5])\n",
        "grad_l2=grad_l2_wrt_weight(weight)\n",
        "print(grad_l2)"
      ]
    },
    {
      "cell_type": "markdown",
      "metadata": {
        "id": "F5jOvf4MxVVQ"
      },
      "source": [
        "#### Task 9 L1 Norm of W (excluding w0)"
      ]
    },
    {
      "cell_type": "code",
      "execution_count": 14,
      "metadata": {
        "colab": {
          "base_uri": "https://localhost:8080/"
        },
        "id": "Y5cZ_XuYxhn5",
        "outputId": "d5331547-d45f-4567-9ab0-dc01073ed967"
      },
      "outputs": [
        {
          "output_type": "stream",
          "name": "stdout",
          "text": [
            "11.0\n"
          ]
        }
      ],
      "source": [
        "def l1_norm (w):\n",
        "  return np.linalg.norm(w[1:],ord=1)#order 1 is used here in np.norm for l1 norm\n",
        "#testCode\n",
        "w=np.array([5,3,6,2])\n",
        "out=l1_norm(w)\n",
        "print(out)"
      ]
    },
    {
      "cell_type": "markdown",
      "metadata": {
        "id": "K1oPaNQozMv8"
      },
      "source": [
        "#### Task 10 Gradient of L1 norm with respect to the weight vectors"
      ]
    },
    {
      "cell_type": "code",
      "execution_count": 15,
      "metadata": {
        "id": "fl523Bb42E6h",
        "colab": {
          "base_uri": "https://localhost:8080/"
        },
        "outputId": "090f6548-99dd-4fd2-d37c-06bee44dc5d4"
      },
      "outputs": [
        {
          "output_type": "stream",
          "name": "stdout",
          "text": [
            "[ 0 -1  1]\n"
          ]
        }
      ],
      "source": [
        "def grad_l1_wrt_weight(weight):\n",
        "  gradient_l1=np.sign(weight)\n",
        "  gradient_l1[0]=0#to discard first value here\n",
        "  return gradient_l1\n",
        "#testCode\n",
        "weight=np.array([2,-4,5])\n",
        "grad_l1=grad_l1_wrt_weight(weight)\n",
        "print(grad_l1)"
      ]
    },
    {
      "cell_type": "markdown",
      "metadata": {
        "id": "qlMV80L52cAT"
      },
      "source": [
        "#### Task 11 Single update of Weights of Linear Regression using Gradient Descent"
      ]
    },
    {
      "cell_type": "code",
      "source": [
        "def lin_reg_single_update(X, t, w, eta, lambda2=0, lambda1=0):\n",
        "    y = lin_reg(X,w)# Predict y\n",
        "    error = y - t #Calculating_error\n",
        "    gradient = 2 * X.T.dot(error)/2*X.shape[0] + lambda2*grad_l2_wrt_weight(w) + lambda1*grad_l1_wrt_weight(w)  #Calculating_gradient\n",
        "    print(gradient)\n",
        "    w = w - eta * gradient # Updatating  weight\n",
        "    mse=mean_square_error(t,y) # Calculating MSE\n",
        "    return w, mse\n",
        "\n",
        "# testCode\n",
        "np.random.seed(1)\n",
        "X = input_x(12,5)\n",
        "w = np.array([1,23,54,8,9])\n",
        "t=out_t(X,w)\n",
        "eta = 0.1\n",
        "lambda2 = 1\n",
        "lambda1 = 1\n",
        "weight_uptdated,mse_updated = lin_reg_single_update(X, t, w, eta, lambda2, lambda1)\n",
        "print(\"weight after First update:\", weight_uptdated)\n",
        "print(\"Mean Square Error\",mse_updated)\n",
        "\n"
      ],
      "metadata": {
        "colab": {
          "base_uri": "https://localhost:8080/"
        },
        "id": "mBadg6_V1oGc",
        "outputId": "1c6d2ce7-49d4-4e74-bef0-c29fa276a497"
      },
      "execution_count": 16,
      "outputs": [
        {
          "output_type": "stream",
          "name": "stdout",
          "text": [
            "[-319.41839088  386.65705803  554.48199448 -590.65777726 -561.36435679]\n",
            "weight after First update: [ 31.94183909 -15.6657058   -1.44819945  67.06577773  65.13643568]\n",
            "Mean Square Error 6.155435818095763\n"
          ]
        }
      ]
    },
    {
      "cell_type": "code",
      "source": [],
      "metadata": {
        "id": "At5S9jT8S3F3"
      },
      "execution_count": 16,
      "outputs": []
    },
    {
      "cell_type": "markdown",
      "metadata": {
        "id": "HzQYyPgdCvI_"
      },
      "source": [
        "#### Task 12 Function to estimate the weights of linear regression using gradient descent."
      ]
    },
    {
      "cell_type": "code",
      "source": [
        "def linear_regression_grad_desc(X, t, w, eta, lambda2, lambda1, min_change_NRMSE, max_iter):\n",
        "    # Initialize variables\n",
        "    number_iterations = 0\n",
        "    old_nrmse = .0550 #Taking any value so that absolute(old_nrmse-new_nrmse) is not zero\n",
        "    new_nrmse = 0.078\n",
        "    while( number_iterations < max_iter and  min_change_NRMSE<abs(old_nrmse - new_nrmse)) :\n",
        "        y = lin_reg(X,w)  # Predicting y\n",
        "        error = y - t # Calculating error\n",
        "        gradient = 2 * X.T.dot(error)/(2*X.shape[0]) + lambda2*grad_l2_wrt_weight(w) + lambda1*grad_l1_wrt_weight(w)  # Calculating gradient\n",
        "        w = w - eta * gradient # Updating weights\n",
        "        mse=mean_square_error(t,y)  # Calculating NRMSE\n",
        "        old_nrmse = new_nrmse \n",
        "        new_nrmse = np.sqrt((mse))/np.var(t)\n",
        "        #print(new_nrmse)\n",
        "        number_iterations = number_iterations+1\n",
        "    return w,new_nrmse,number_iterations\n",
        "#check whether divide by 2N\n",
        "#testCode\n",
        "np.random.seed(1)\n",
        "X = input_x(12,5)\n",
        "w = np.array([1,23,54,8,9])\n",
        "t=out_t(X,w)\n",
        "eta = 0.01\n",
        "lambda2 = 1\n",
        "lambda1 = 1\n",
        "min_change_NRMSE = 0.00000001\n",
        "max_iter = 1000\n",
        "x_train, x_val, t_train, t_test = train_test_split(X,t, test_size=0.2)\n",
        "final_w, final_nrmse ,no_iter= linear_regression_grad_desc(x_train, t_train, w, eta, lambda2, lambda1, min_change_NRMSE, max_iter)\n",
        "t_predict=lin_reg(x_val,final_w)\n",
        "print(\"Actual t\",t_test)\n",
        "print(\"predicted t\",t_predict)\n",
        "print(\"Final weight:\", final_w)\n",
        "print(\"Final NRMSE:\", final_nrmse)\n",
        "print(\"Total Number of Iterations:\",no_iter)\n"
      ],
      "metadata": {
        "colab": {
          "base_uri": "https://localhost:8080/"
        },
        "id": "QeWsZrLFcxj6",
        "outputId": "aac39783-5b35-431a-f4b3-6a0e2ffd9b57"
      },
      "execution_count": 17,
      "outputs": [
        {
          "output_type": "stream",
          "name": "stdout",
          "text": [
            "Actual t [-229.63996177 -227.23387506  438.19953061]\n",
            "predicted t [-203.0959919  -210.73678848  409.54608382]\n",
            "Final weight: [-0.20535016 21.63419043 49.82087691  9.10828776  8.53656207]\n",
            "Final NRMSE: 0.0002029208639909764\n",
            "Total Number of Iterations: 50\n"
          ]
        }
      ]
    },
    {
      "cell_type": "code",
      "source": [
        "x=np.array([[1,2,34.4,6],[2,4,6,8]])\n",
        "print(x.shape[0])"
      ],
      "metadata": {
        "colab": {
          "base_uri": "https://localhost:8080/"
        },
        "id": "262QX6JA3ZsH",
        "outputId": "51b2c70b-8bc4-4947-b31f-40f4d3f4cd7c"
      },
      "execution_count": 18,
      "outputs": [
        {
          "output_type": "stream",
          "name": "stdout",
          "text": [
            "2\n"
          ]
        }
      ]
    },
    {
      "cell_type": "markdown",
      "source": [
        "#### Task 13"
      ],
      "metadata": {
        "id": "uKm_0Ja3X2PT"
      }
    },
    {
      "cell_type": "markdown",
      "source": [
        "Part a) Training and validation NRMSE obtained using pseudo inverse with number of training samples\n",
        "- In this I have done 3  different codes which are explained below. \n",
        "- First code represents Change in NRMSE by changing the no of training samples (by changing test size)and keeping the total number of samples constant.\n",
        "- Second code represents Change in NRMSE by changing the no of total samples and keeping the test size constant.\n",
        "- Third code represents Change in NRMSE by changing seed in the train and test data with test size and number of samples constant.\n",
        "\n",
        "\n",
        "\n",
        "\n"
      ],
      "metadata": {
        "id": "bhdu2DjIXiTJ"
      }
    },
    {
      "cell_type": "code",
      "source": [
        "#let the no of sample(fixed=1000)s and d denote dimensions(fixed=5)\n",
        "n=10#1number of different seed\n",
        "w_initialise=np.array([0.5,20,45,6,6])#any random value\n",
        "#fixing i for multiple  seed value data \n",
        "# seed values are taken from 13 to 23 \n",
        "nrmse_train_seed=np.zeros(n)\n",
        "nrmse_test_seed=np.zeros(n)\n",
        "X_a = input_x(1000,5)\n",
        "t_a=out_t(X_a,w_initialise)\n",
        "for i in range(n):\n",
        "  x_train, x_val, t_train, t_test = train_test_split(X_a, t_a, test_size=0.2, random_state=13+i)\n",
        "  w_train,y_train,mse_pseudo_in_train=weight_pseudo_in(x_train,t_train,0.1)\n",
        "  t_predict=lin_reg(x_val,w_train)\n",
        "  nrmse_test=np.sqrt((mean_square_error(t_test,t_predict)))/np.var(t_test)\n",
        "  nrmse_train=np.sqrt(mse_pseudo_in_train)/np.var(t_train)\n",
        "  nrmse_train_seed[i]=nrmse_train\n",
        "  nrmse_test_seed[i]=nrmse_test\n",
        "# print(\"Weights in train data :\",w_train)\n",
        "# print(\"Weights in test data :\",w_test)\n",
        "print(\"Train NRMSE with increasing seed : \",nrmse_train_seed )\n",
        "print(\"Test NRMSE with increasing seed: \",nrmse_test_seed )\n",
        "print(\"Train NRMSE Variance : \",np.var(nrmse_train_seed))\n",
        "print(\"Train NRMSE Mean : \",np.mean(nrmse_train_seed))\n",
        "print(\"Test NRMSE Variance : \",np.var(nrmse_test_seed))\n",
        "print(\" Test NRMSE Mean : \",np.mean(nrmse_test_seed))\n",
        "\n",
        "# create the figure and axes\n",
        "fig, ax = plt.subplots()\n",
        "# create the boxplots\n",
        "bp1 = ax.boxplot(nrmse_train_seed, positions=[1], widths=0.6)\n",
        "bp2 = ax.boxplot(nrmse_test_seed, positions=[2], widths=0.6)\n",
        "# customize the boxplots\n",
        "for box in bp1['boxes']:\n",
        "    box.set(color='blue', linewidth=2)\n",
        "for box in bp2['boxes']:\n",
        "    box.set(color='green', linewidth=2)\n",
        "# set the x-axis labels\n",
        "ax.set_xticklabels(['Train Data', 'Test Data'])\n",
        "plt.show()\n",
        "plt.title('Change in nrmse due to seed')\n",
        "plt.xlabel(\"Seed\")\n",
        "plt.ylabel(\"NRMSE\")\n",
        "plt.plot(np.arange(n)+13,nrmse_train_seed,label ='Train Data')\n",
        "plt.plot(np.arange(n)+13,nrmse_test_seed,label ='Test Data')\n",
        "plt.legend(loc = \"upper right\")\n",
        "plt.figure(figsize=(4, 2))\n",
        "plt.show()"
      ],
      "metadata": {
        "colab": {
          "base_uri": "https://localhost:8080/",
          "height": 755
        },
        "id": "MkQ2ZMLwX6Iq",
        "outputId": "2b457282-411d-49b5-b63d-c08dcf2cff47"
      },
      "execution_count": 19,
      "outputs": [
        {
          "output_type": "stream",
          "name": "stdout",
          "text": [
            "Train NRMSE with increasing seed :  [1.64458798e-05 1.62322181e-05 1.57408625e-05 1.56972473e-05\n",
            " 1.58588958e-05 1.51812104e-05 1.57588844e-05 1.55606240e-05\n",
            " 1.59099943e-05 1.55412897e-05]\n",
            "Test NRMSE with increasing seed:  [1.37499079e-05 1.41554695e-05 1.58474116e-05 1.59791973e-05\n",
            " 1.58281297e-05 1.88090228e-05 1.69251117e-05 1.66532993e-05\n",
            " 1.51666349e-05 1.66380781e-05]\n",
            "Train NRMSE Variance :  1.1418876193334665e-13\n",
            "Train NRMSE Mean :  1.5792710626108272e-05\n",
            "Test NRMSE Variance :  1.878720677260456e-12\n",
            " Test NRMSE Mean :  1.5975226279858422e-05\n"
          ]
        },
        {
          "output_type": "display_data",
          "data": {
            "text/plain": [
              "<Figure size 432x288 with 1 Axes>"
            ],
            "image/png": "[encoded data removed]"
          },
          "metadata": {
            "needs_background": "light"
          }
        },
        {
          "output_type": "display_data",
          "data": {
            "text/plain": [
              "<Figure size 432x288 with 1 Axes>"
            ],
            "image/png": "[encoded data removed]"
          },
          "metadata": {
            "needs_background": "light"
          }
        },
        {
          "output_type": "display_data",
          "data": {
            "text/plain": [
              "<Figure size 288x144 with 0 Axes>"
            ]
          },
          "metadata": {}
        }
      ]
    },
    {
      "cell_type": "markdown",
      "source": [
        "As we are taking different seed we can see there is more fluctuation in test data (which is natural) and less fluctuation in train data"
      ],
      "metadata": {
        "id": "1AokfHn7t-Vl"
      }
    },
    {
      "cell_type": "code",
      "source": [
        "#let n denote the no of samples and d denote dimensions(fixed=5)\n",
        "train_size=np.array([0.4,0.5,0.6,0.7,0.8,0.9])\n",
        "w_initialise=np.array([0.5,20,45,6,6])#any random value\n",
        "#fixing i for multiple  seed value data \n",
        "# seed values are taken from 13 to 23 \n",
        "nrmse_train_seed=np.zeros(np.size(train_size))\n",
        "nrmse_test_seed=np.zeros(np.size(train_size))\n",
        "X_a = input_x(1000,5)\n",
        "np.random.seed()\n",
        "t_a=out_t(X_a,w_initialise,5,10)\n",
        "for i in range(np.size(train_size)):\n",
        "  x_train, x_val, t_train, t_test = train_test_split(X_a, t_a, test_size=train_size[i])\n",
        "  w_train,y_train,mse_pseudo_in_train=weight_pseudo_in(x_train,t_train,0.1)\n",
        "  t_predict=lin_reg(x_val,w_train)\n",
        "  nrmse_test=np.sqrt((mean_square_error(t_test,t_predict)))/np.var(t_test)\n",
        "  nrmse_train=np.sqrt(mse_pseudo_in_train)/np.var(t_train)\n",
        "  nrmse_train_seed[i]=nrmse_train\n",
        "  nrmse_test_seed[i]=nrmse_test\n",
        "# print(\"Weights in train data :\",w_train)\n",
        "# print(\"Weights in test data :\",w_test)\n",
        "print(\"Train NRMSE with increasing training samples size: \",nrmse_train_seed )\n",
        "print(\"Test NRMSE with increasing training samples size: \",nrmse_test_seed )\n",
        "print(\"Train NRMSE Variance : \",np.var(nrmse_train_seed))\n",
        "print(\"Train NRMSE Mean : \",np.mean(nrmse_train_seed))\n",
        "print(\"Test NRMSE Variance : \",np.var(nrmse_test_seed))\n",
        "print(\" Test NRMSE Mean : \",np.mean(nrmse_test_seed))\n",
        "\n",
        "# create the figure and axes\n",
        "fig, ax = plt.subplots()\n",
        "# create the boxplots\n",
        "bp1 = ax.boxplot(nrmse_train_seed, positions=[1], widths=0.6)\n",
        "bp2 = ax.boxplot(nrmse_test_seed, positions=[2], widths=0.6)\n",
        "# customize the boxplots\n",
        "for box in bp1['boxes']:\n",
        "    box.set(color='blue', linewidth=2)\n",
        "for box in bp2['boxes']:\n",
        "    box.set(color='green', linewidth=2)\n",
        "# set the x-axis labels\n",
        "ax.set_xticklabels(['Train Data', 'Test Data'])\n",
        "plt.show()\n",
        "plt.title('Change in nrmse due to Test Size')\n",
        "plt.xlabel(\"Test Size\")\n",
        "plt.ylabel(\"NRMSE\")\n",
        "plt.plot(train_size,nrmse_train_seed,label ='Train Data')\n",
        "plt.plot(train_size,nrmse_test_seed,label ='Test Data')\n",
        "plt.legend(loc = \"upper right\")\n",
        "plt.figure(figsize=(4, 2))\n",
        "plt.show()"
      ],
      "metadata": {
        "colab": {
          "base_uri": "https://localhost:8080/",
          "height": 671
        },
        "id": "RTI1521NrK2N",
        "outputId": "e7ab0874-7d12-4f06-f420-e71e64d9108d"
      },
      "execution_count": 20,
      "outputs": [
        {
          "output_type": "stream",
          "name": "stdout",
          "text": [
            "Train NRMSE with increasing training samples size:  [0.00015441 0.00016557 0.00015699 0.00014766 0.0001749  0.00016236]\n",
            "Test NRMSE with increasing training samples size:  [0.00016018 0.00014807 0.00015625 0.00016112 0.00015572 0.00015744]\n",
            "Train NRMSE Variance :  7.511689376528552e-11\n",
            "Train NRMSE Mean :  0.0001603176015874544\n",
            "Test NRMSE Variance :  1.7922136816087985e-11\n",
            " Test NRMSE Mean :  0.00015646428806992708\n"
          ]
        },
        {
          "output_type": "display_data",
          "data": {
            "text/plain": [
              "<Figure size 432x288 with 1 Axes>"
            ],
            "image/png": "[encoded data removed]"
          },
          "metadata": {
            "needs_background": "light"
          }
        },
        {
          "output_type": "display_data",
          "data": {
            "text/plain": [
              "<Figure size 432x288 with 1 Axes>"
            ],
            "image/png": "[encoded data removed]"
          },
          "metadata": {
            "needs_background": "light"
          }
        },
        {
          "output_type": "display_data",
          "data": {
            "text/plain": [
              "<Figure size 288x144 with 0 Axes>"
            ]
          },
          "metadata": {}
        }
      ]
    },
    {
      "cell_type": "markdown",
      "source": [
        "As number of sample are constant variance changes non linearly with different seeds."
      ],
      "metadata": {
        "id": "bUfB9WOl8s57"
      }
    },
    {
      "cell_type": "code",
      "source": [
        "#let n denote the no of samples and d denote dimensions(fixed=5)\n",
        "samples=np.array([50,100,200,500])#number of samples\n",
        "nrmse_train_seed=np.zeros(np.size(samples))\n",
        "nrmse_test_seed=np.zeros(np.size(samples))\n",
        "w_validate_a=np.array([0.5,20,45,6,6])\n",
        "nrmse=np.zeros(samples)\n",
        "for i in range(np.size(samples)):\n",
        "  np.random.seed()\n",
        "  X_a = input_x(samples[i],5)\n",
        "  t_a=out_t(X_a,w_validate_a)\n",
        "  x_train, x_val, t_train, t_test = train_test_split(X_a, t_a, test_size=0.2)\n",
        "  w_train,y_train,mse_pseudo_in_train=weight_pseudo_in(x_train,t_train,0.1)\n",
        "  t_predict=lin_reg(x_val,w_train)\n",
        "  nrmse_test=np.sqrt((mean_square_error(t_test,t_predict)))/np.var(t_test)\n",
        "  nrmse_train=np.sqrt(mse_pseudo_in_train)/np.var(t_train)\n",
        "  nrmse_train_seed[i]=nrmse_train\n",
        "  nrmse_test_seed[i]=nrmse_test\n",
        "  \n",
        "print(\"Train NRMSE with increasing sample size : \",nrmse_train_seed )\n",
        "print(\"Test NRMSE with increasing sample size: \",nrmse_test_seed )\n",
        "print(\"Train NRMSE Variance : \",np.var(nrmse_train_seed))\n",
        "print(\"Train NRMSE Mean : \",np.mean(nrmse_train_seed))\n",
        "print(\"Test NRMSE Variance : \",np.var(nrmse_test_seed))\n",
        "print(\" Test NRMSE Mean : \",np.mean(nrmse_test_seed))\n",
        "\n",
        "# create the figure and axes\n",
        "fig, ax = plt.subplots()\n",
        "# create the boxplots\n",
        "bp1 = ax.boxplot(nrmse_train_seed, positions=[1], widths=0.6)\n",
        "bp2 = ax.boxplot(nrmse_test_seed, positions=[2], widths=0.6)\n",
        "# customize the boxplots\n",
        "for box in bp1['boxes']:\n",
        "    box.set(color='blue', linewidth=2)\n",
        "for box in bp2['boxes']:\n",
        "    box.set(color='green', linewidth=2)\n",
        "# set the x-axis labels\n",
        "ax.set_xticklabels(['Train Data', 'Test Data'])\n",
        "plt.show()\n",
        "plt.title('Change in nrmse due to increase in sample size')\n",
        "plt.xlabel(\"Samples\")\n",
        "plt.ylabel(\"NRMSE\")\n",
        "plt.plot(samples,nrmse_train_seed,label ='Train Data')\n",
        "plt.plot(samples,nrmse_test_seed,label ='Test Data')\n",
        "plt.legend(loc = \"upper right\")\n",
        "plt.figure(figsize=(4, 2))\n",
        "plt.show()"
      ],
      "metadata": {
        "colab": {
          "base_uri": "https://localhost:8080/",
          "height": 682
        },
        "id": "o4Q2FCpDFtvQ",
        "outputId": "a1b999f1-14fb-4bc6-d384-cbea93e01c06"
      },
      "execution_count": 21,
      "outputs": [
        {
          "output_type": "stream",
          "name": "stdout",
          "text": [
            "Train NRMSE with increasing sample size :  [1.52096113e-05 1.62620776e-05 1.40517588e-05 1.66110354e-05]\n",
            "Test NRMSE with increasing sample size:  [1.40225975e-05 2.66487992e-05 1.38965440e-05 1.76742269e-05]\n",
            "Train NRMSE Variance :  9.98092180503501e-13\n",
            "Train NRMSE Mean :  1.5533620778735892e-05\n",
            "Test NRMSE Variance :  2.6887819221483475e-11\n",
            " Test NRMSE Mean :  1.8060541910242323e-05\n"
          ]
        },
        {
          "output_type": "display_data",
          "data": {
            "text/plain": [
              "<Figure size 432x288 with 1 Axes>"
            ],
            "image/png": "[encoded data removed]"
          },
          "metadata": {
            "needs_background": "light"
          }
        },
        {
          "output_type": "display_data",
          "data": {
            "text/plain": [
              "<Figure size 432x288 with 1 Axes>"
            ],
            "image/png": "[encoded data removed]"
          },
          "metadata": {
            "needs_background": "light"
          }
        },
        {
          "output_type": "display_data",
          "data": {
            "text/plain": [
              "<Figure size 288x144 with 0 Axes>"
            ]
          },
          "metadata": {}
        }
      ]
    },
    {
      "cell_type": "markdown",
      "source": [
        "As number of samples are increased NRMSE first increases upto 100 samples than decrease linearly for both training and validation data."
      ],
      "metadata": {
        "id": "REs8Qkj1Gp2P"
      }
    },
    {
      "cell_type": "markdown",
      "source": [
        "Part b) Training and validation NRMSE obtained using pseudo inverse with number of variables.\n",
        "In this part I have written two code\n",
        "- First code represents change in NRMSE withc change in dimensions\n",
        "- Second Code change in seed with dimension constant. "
      ],
      "metadata": {
        "id": "ZbcWT2ZJ0dDv"
      }
    },
    {
      "cell_type": "code",
      "source": [
        "#let n denote the no of samples(fixed=100) and d denote dimensions(variable)\n",
        "d=10#Increase this value to see the sharp decrease\n",
        "nrmse_train_seed=np.zeros(d)\n",
        "nrmse_test_seed=np.zeros(d)\n",
        "\n",
        "np.random.seed()\n",
        "for i in range(1,d):\n",
        "  np.random.seed()\n",
        "  w_b = np.ones(i)\n",
        "  in_x_b = input_x(1000,i)\n",
        "  t_b=out_t(in_x_b,w_b)\n",
        "  x_train, x_val, t_train, t_test = train_test_split(in_x_b, t_b, test_size=0.2)\n",
        "  w_train,y_train,mse_pseudo_in_train=weight_pseudo_in(x_train,t_train,0.1)\n",
        "  t_predict=lin_reg(x_val,w_train)\n",
        "  nrmse_test=np.sqrt((mean_square_error(t_test,t_predict)))/np.var(t_test)\n",
        "  nrmse_train=np.sqrt(mse_pseudo_in_train)/np.var(t_train)\n",
        "  nrmse_train_seed[i]=nrmse_train\n",
        "  nrmse_test_seed[i]=nrmse_test\n",
        "  \n",
        "print(\"Train NRMSE with increasing dimensions : \",nrmse_train_seed )\n",
        "print(\"Test NRMSE with increasing dimensions: \",nrmse_test_seed )\n",
        "print(\"Train NRMSE Variance : \",np.var(nrmse_train_seed))\n",
        "print(\"Train NRMSE Mean : \",np.mean(nrmse_train_seed))\n",
        "print(\"Test NRMSE Variance : \",np.var(nrmse_test_seed))\n",
        "print(\" Test NRMSE Mean : \",np.mean(nrmse_test_seed))\n",
        "\n",
        "# create the figure and axes\n",
        "fig, ax = plt.subplots()\n",
        "# create the boxplots\n",
        "bp1 = ax.boxplot(nrmse_train_seed, positions=[1], widths=0.6)\n",
        "bp2 = ax.boxplot(nrmse_test_seed, positions=[2], widths=0.6)\n",
        "# customize the boxplots\n",
        "for box in bp1['boxes']:\n",
        "    box.set(color='blue', linewidth=2)\n",
        "for box in bp2['boxes']:\n",
        "    box.set(color='green', linewidth=2)\n",
        "# set the x-axis labels\n",
        "ax.set_xticklabels(['Train Data', 'Test Data'])\n",
        "plt.show()\n",
        "plt.title('Change in nrmse due to increase in Dimensions')\n",
        "plt.xlabel(\"Dimensions\")\n",
        "plt.ylabel(\"NRMSE\")\n",
        "plt.plot(np.arange(1,d),nrmse_train_seed[1:],label ='Train Data')\n",
        "plt.plot(np.arange(1,d),nrmse_test_seed[1:],label ='Test Data')\n",
        "plt.legend(loc = \"upper right\")\n",
        "plt.figure(figsize=(4, 2))\n",
        "plt.show()\n"
      ],
      "metadata": {
        "colab": {
          "base_uri": "https://localhost:8080/",
          "height": 707
        },
        "id": "TriOuN9t0qGt",
        "outputId": "d79aa8a2-1db8-42ab-b144-a7918f9f8eb0"
      },
      "execution_count": 22,
      "outputs": [
        {
          "output_type": "stream",
          "name": "stdout",
          "text": [
            "Train NRMSE with increasing dimensions :  [0.         1.03164112 0.04030511 0.01837686 0.01270007 0.01043911\n",
            " 0.00862974 0.00713464 0.00585226 0.00444717]\n",
            "Test NRMSE with increasing dimensions:  [0.         0.9485105  0.03749526 0.02000339 0.01162268 0.00890195\n",
            " 0.00836272 0.00677693 0.00564222 0.00514023]\n",
            "Train NRMSE Variance :  0.09368433086674113\n",
            "Train NRMSE Mean :  0.11395260708310359\n",
            "Test NRMSE Variance :  0.07911003206010583\n",
            " Test NRMSE Mean :  0.10524558753751352\n"
          ]
        },
        {
          "output_type": "display_data",
          "data": {
            "text/plain": [
              "<Figure size 432x288 with 1 Axes>"
            ],
            "image/png": "[encoded data removed]"
          },
          "metadata": {
            "needs_background": "light"
          }
        },
        {
          "output_type": "display_data",
          "data": {
            "text/plain": [
              "<Figure size 432x288 with 1 Axes>"
            ],
            "image/png": "[encoded data removed]"
          },
          "metadata": {
            "needs_background": "light"
          }
        },
        {
          "output_type": "display_data",
          "data": {
            "text/plain": [
              "<Figure size 288x144 with 0 Axes>"
            ]
          },
          "metadata": {}
        }
      ]
    },
    {
      "cell_type": "markdown",
      "source": [
        "Observation : \n",
        "- It can be easily seen that as number of dimension increases nrmse decreases very sharply. \n",
        "- Check values of NRMSE to verify.Don't see graph."
      ],
      "metadata": {
        "id": "kXBc-YWLHKlc"
      }
    },
    {
      "cell_type": "code",
      "source": [
        "#let n denote the no of samples(fixed=100) and d denote dimensions(variable)\n",
        "d=30\n",
        "n=10#number of different seeds\n",
        "nrmse_train_seed=np.zeros(n)\n",
        "nrmse_test_seed=np.zeros(n)\n",
        "for i in range(1,n):\n",
        "  np.random.seed(11+i)\n",
        "  w_b = np.ones(d)\n",
        "  in_x_b = input_x(1000,d)\n",
        "  t_b=out_t(in_x_b,w_b)\n",
        "  wz,y,mse_pseudo_in=weight_pseudo_in(in_x_b,t_b,1)\n",
        "  x_train, x_val, t_train, t_test = train_test_split(in_x_b, t_b, test_size=0.2)\n",
        "  w_train,y_train,mse_pseudo_in_train=weight_pseudo_in(x_train,t_train,0.1)\n",
        "  t_predict=lin_reg(x_val,w_train)\n",
        "  nrmse_test=np.sqrt((mean_square_error(t_test,t_predict)))/np.var(t_test)\n",
        "  nrmse_train=np.sqrt(mse_pseudo_in_train)/np.var(t_train)\n",
        "  nrmse_train_seed[i]=nrmse_train\n",
        "  nrmse_test_seed[i]=nrmse_test\n",
        "\n",
        "print(\"Train NRMSE with changing  seed : \",nrmse_train_seed )\n",
        "print(\"Test NRMSE with changing seed : \",nrmse_test_seed )\n",
        "print(\"Train NRMSE Variance : \",np.var(nrmse_train_seed))\n",
        "print(\"Train NRMSE Mean : \",np.mean(nrmse_train_seed))\n",
        "print(\"Test NRMSE Variance : \",np.var(nrmse_test_seed))\n",
        "print(\" Test NRMSE Mean : \",np.mean(nrmse_test_seed))\n",
        "\n",
        "# create the figure and axes\n",
        "fig, ax = plt.subplots()\n",
        "# create the boxplots\n",
        "bp1 = ax.boxplot(nrmse_train_seed, positions=[1], widths=0.6)\n",
        "bp2 = ax.boxplot(nrmse_test_seed, positions=[2], widths=0.6)\n",
        "# customize the boxplots\n",
        "for box in bp1['boxes']:\n",
        "    box.set(color='blue', linewidth=2)\n",
        "for box in bp2['boxes']:\n",
        "    box.set(color='green', linewidth=2)\n",
        "# set the x-axis labels\n",
        "ax.set_xticklabels(['Train Data', 'Test Data'])\n",
        "plt.show()\n",
        "plt.title('Change in nrmse due to seed')\n",
        "plt.xlabel(\"Seed\")\n",
        "plt.ylabel(\"NRMSE\")\n",
        "plt.plot(np.arange(n),nrmse_train_seed,label ='Train Data')\n",
        "plt.plot(np.arange(n),nrmse_test_seed,label ='Test Data')\n",
        "plt.legend(loc = \"upper right\")\n",
        "plt.figure(figsize=(4, 2))\n",
        "plt.show()"
      ],
      "metadata": {
        "colab": {
          "base_uri": "https://localhost:8080/",
          "height": 707
        },
        "id": "J5RqP7N3H2Jy",
        "outputId": "ef4e2ac9-e6a3-4f1b-aa1a-efb10669df21"
      },
      "execution_count": 35,
      "outputs": [
        {
          "output_type": "stream",
          "name": "stdout",
          "text": [
            "Train NRMSE with changing  seed size:  [0.         0.00137798 0.00145729 0.00124921 0.00134191 0.00131184\n",
            " 0.00132865 0.00134707 0.00136974 0.00138025]\n",
            "Test NRMSE with changing seed size:  [0.         0.00156951 0.0014204  0.00150835 0.00165991 0.00129126\n",
            " 0.00137234 0.00101534 0.00161553 0.00146993]\n",
            "Train NRMSE Variance :  1.6697347533967318e-07\n",
            "Train NRMSE Mean :  0.0012163930662428336\n",
            "Test NRMSE Variance :  2.164250542994193e-07\n",
            " Test NRMSE Mean :  0.0012922560049041243\n"
          ]
        },
        {
          "output_type": "display_data",
          "data": {
            "text/plain": [
              "<Figure size 432x288 with 1 Axes>"
            ],
            "image/png": "[encoded data removed]"
          },
          "metadata": {
            "needs_background": "light"
          }
        },
        {
          "output_type": "display_data",
          "data": {
            "text/plain": [
              "<Figure size 432x288 with 1 Axes>"
            ],
            "image/png": "[encoded data removed]"
          },
          "metadata": {
            "needs_background": "light"
          }
        },
        {
          "output_type": "display_data",
          "data": {
            "text/plain": [
              "<Figure size 288x144 with 0 Axes>"
            ]
          },
          "metadata": {}
        }
      ]
    },
    {
      "cell_type": "markdown",
      "source": [
        "Observation : \n",
        "- As seed increases for fixed number of dimensions nrmse changes very randomly and non linearly.\n",
        "- Here we can also see that variance in test data is higher than variance in train data"
      ],
      "metadata": {
        "id": "psq6b5vfJbtm"
      }
    },
    {
      "cell_type": "markdown",
      "source": [
        "c) Training and validation NRMSE obtained using pseudo inverse with noise variance"
      ],
      "metadata": {
        "id": "gTO0hCtUOEKg"
      }
    },
    {
      "cell_type": "code",
      "source": [
        "#let n denote the noise variance(variable)\n",
        "n=30\n",
        "\n",
        "nrmse_train_seed=np.zeros(n)\n",
        "nrmse_test_seed=np.zeros(n)\n",
        "w_initialise=np.array([0.5,20,45,6,6])\n",
        "in_x_c=input_x(50,5)#fixed samples  and dimension\n",
        "w0=0\n",
        "for i in range(n):\n",
        "  t_c=out_t(in_x_c,w_initialise,w0,i)\n",
        "  x_train, x_val, t_train, t_test = train_test_split(in_x_c, t_c, test_size=0.1)\n",
        "  w_train,y_train,mse_pseudo_in_train=weight_pseudo_in(x_train,t_train,0.5)#lambda1=0.1\n",
        "  t_predict=lin_reg(x_val,w_train)\n",
        "  nrmse_test=np.sqrt((mean_square_error(t_test,t_predict)))/np.var(t_test)\n",
        "  nrmse_train=np.sqrt(mse_pseudo_in_train)/np.var(t_train)\n",
        "  nrmse_train_seed[i]=nrmse_train\n",
        "  nrmse_test_seed[i]=nrmse_test\n",
        "  \n",
        "print(\"Train NRMSE with increasing Noise Variance : \",nrmse_train_seed )\n",
        "print(\"Test NRMSE with increasing Noise Variance : \",nrmse_test_seed )\n",
        "print(\"Train NRMSE Variance : \",np.var(nrmse_train_seed))\n",
        "print(\"Train NRMSE Mean : \",np.mean(nrmse_train_seed))\n",
        "print(\"Test NRMSE Variance : \",np.var(nrmse_test_seed))\n",
        "print(\" Test NRMSE Mean : \",np.mean(nrmse_test_seed))\n",
        "\n",
        "# create the figure and axes\n",
        "fig, ax = plt.subplots()\n",
        "# create the boxplots\n",
        "bp1 = ax.boxplot(nrmse_train_seed, positions=[1], widths=0.6)\n",
        "bp2 = ax.boxplot(nrmse_test_seed, positions=[2], widths=0.6)\n",
        "# customize the boxplots\n",
        "for box in bp1['boxes']:\n",
        "    box.set(color='blue', linewidth=2)\n",
        "for box in bp2['boxes']:\n",
        "    box.set(color='green', linewidth=2)\n",
        "# set the x-axis labels\n",
        "ax.set_xticklabels(['Train Data', 'Test Data'])\n",
        "plt.show()\n",
        "plt.title('Change in nrmse due to increase in Noise Variance')\n",
        "plt.xlabel(\"Noise Variance\")\n",
        "plt.ylabel(\"NRMSE\")\n",
        "plt.plot(np.arange(n),nrmse_train_seed,label ='Train Data')\n",
        "plt.plot(np.arange(n),nrmse_test_seed,label ='Test Data')\n",
        "plt.legend(loc = \"upper right\")\n",
        "plt.figure(figsize=(4, 2))\n",
        "plt.show()\n"
      ],
      "metadata": {
        "colab": {
          "base_uri": "https://localhost:8080/",
          "height": 927
        },
        "id": "Yoyjrov1O67i",
        "outputId": "c6b7d2f7-5c45-4b9a-aeb2-9e042183278b"
      },
      "execution_count": 24,
      "outputs": [
        {
          "output_type": "stream",
          "name": "stdout",
          "text": [
            "Train NRMSE with increasing Noise Variance :  [2.40212344e-06 2.06405156e-05 3.72636226e-05 4.24877765e-05\n",
            " 6.84427986e-05 8.43291737e-05 1.19220562e-04 1.38115603e-04\n",
            " 1.42111934e-04 1.41786773e-04 1.43552250e-04 1.70024987e-04\n",
            " 2.34735256e-04 2.31030879e-04 2.72694024e-04 2.45210449e-04\n",
            " 3.47531594e-04 2.91297369e-04 3.10914569e-04 4.12501561e-04\n",
            " 4.17000644e-04 3.38977468e-04 3.88399330e-04 3.75075092e-04\n",
            " 5.25685520e-04 4.71610151e-04 5.51584296e-04 5.28671639e-04\n",
            " 4.58629051e-04 6.10243015e-04]\n",
            "Test NRMSE with increasing Noise Variance :  [3.43142752e-06 3.42369552e-05 4.18886307e-05 2.71560837e-04\n",
            " 1.01988591e-04 1.00092087e-04 2.76210333e-04 1.25327636e-04\n",
            " 4.84528333e-04 7.56326528e-05 7.77945027e-04 2.15854386e-03\n",
            " 3.47668180e-04 3.16346430e-04 1.84284481e-04 4.45628769e-04\n",
            " 1.37897704e-04 2.54560102e-04 7.34296600e-04 1.36022906e-04\n",
            " 6.45559725e-04 7.92085584e-04 2.70935157e-04 7.35084851e-04\n",
            " 2.89084263e-04 5.86199103e-04 1.15472930e-03 3.21756459e-04\n",
            " 3.18603149e-04 1.64748006e-03]\n",
            "Train NRMSE Variance :  3.0017656611752646e-08\n",
            "Train NRMSE Mean :  0.000270739000829712\n",
            "Test NRMSE Variance :  2.2689204825625932e-07\n",
            " Test NRMSE Mean :  0.00045898697329358406\n"
          ]
        },
        {
          "output_type": "display_data",
          "data": {
            "text/plain": [
              "<Figure size 432x288 with 1 Axes>"
            ],
            "image/png": "[encoded data removed]"
          },
          "metadata": {
            "needs_background": "light"
          }
        },
        {
          "output_type": "display_data",
          "data": {
            "text/plain": [
              "<Figure size 432x288 with 1 Axes>"
            ],
            "image/png": "[encoded data removed]"
          },
          "metadata": {
            "needs_background": "light"
          }
        },
        {
          "output_type": "display_data",
          "data": {
            "text/plain": [
              "<Figure size 288x144 with 0 Axes>"
            ]
          },
          "metadata": {}
        }
      ]
    },
    {
      "cell_type": "markdown",
      "source": [
        "Observation : As noise variance increases we can see the sharp increase in NRMSE for both training and validation dataset.But the difference between two is that variance in test data is very high.\n",
        "- By changing lambda one graph changes very much use value around 0.5 to see above effect\n",
        "- By increasig lambda nrmse decreases but curve still follows the first point "
      ],
      "metadata": {
        "id": "_a2TqGmiyWBx"
      }
    },
    {
      "cell_type": "markdown",
      "source": [
        "d) Training and validation NRMSE obtained using pseudo inverse with w0 "
      ],
      "metadata": {
        "id": "qEtPFO5eQjdt"
      }
    },
    {
      "cell_type": "code",
      "source": [
        "#let n denote the no of samples(fixed=100) and d denote dimensions(fixed=5)\n",
        "n=10\n",
        "nrmse_train_seed=np.zeros(n)\n",
        "nrmse_test_seed=np.zeros(n)\n",
        "w_validate3=np.array([0.5,20,45,6,6])\n",
        "in_x_d=input_x(100,5)\n",
        "np.random.seed()\n",
        "noise_var=0\n",
        "for i in range(n):\n",
        "  t_d=out_t(in_x_d,w_validate3,i,noise_var)\n",
        "  x_train, x_val, t_train, t_test = train_test_split(in_x_d, t_d, test_size=0.2)\n",
        "  w_train,y_train,mse_pseudo_in_train=weight_pseudo_in(x_train,t_train,0.8)\n",
        "  t_predict=lin_reg(x_val,w_train)\n",
        "  nrmse_test=np.sqrt((mean_square_error(t_test,t_predict)))/np.var(t_d)\n",
        "  nrmse_train=np.sqrt(mse_pseudo_in_train)/np.var(t_d)\n",
        "  nrmse_train_seed[i]=nrmse_train\n",
        "  nrmse_test_seed[i]=nrmse_test\n",
        "  \n",
        "print(\"Train NRMSE with increasing Bias w0 : \",nrmse_train_seed )\n",
        "print(\"Test NRMSE with increasing Bias w0 : \",nrmse_test_seed )\n",
        "print(\"Train NRMSE Variance : \",np.var(nrmse_train_seed))\n",
        "print(\"Train NRMSE Mean : \",np.mean(nrmse_train_seed))\n",
        "print(\"Test NRMSE Variance : \",np.var(nrmse_test_seed))\n",
        "print(\" Test NRMSE Mean : \",np.mean(nrmse_test_seed))\n",
        "\n",
        "# create the figure and axes\n",
        "fig, ax = plt.subplots()\n",
        "# create the boxplots\n",
        "bp1 = ax.boxplot(nrmse_train_seed, positions=[1], widths=0.6)\n",
        "bp2 = ax.boxplot(nrmse_test_seed, positions=[2], widths=0.6)\n",
        "# customize the boxplots\n",
        "for box in bp1['boxes']:\n",
        "    box.set(color='blue', linewidth=2)\n",
        "for box in bp2['boxes']:\n",
        "    box.set(color='green', linewidth=2)\n",
        "# set the x-axis labels\n",
        "ax.set_xticklabels(['Train Data', 'Test Data'])\n",
        "plt.show()\n",
        "plt.title('Change in nrmse due to increase in Bias w0')\n",
        "plt.xlabel(\"Bias w0\")\n",
        "plt.ylabel(\"NRMSE\")\n",
        "plt.plot(np.arange(n),nrmse_train_seed,label ='Train Data')\n",
        "plt.plot(np.arange(n),nrmse_test_seed,label ='Test Data')\n",
        "plt.legend(loc = \"upper right\")\n",
        "plt.figure(figsize=(4, 2))\n",
        "plt.show()\n"
      ],
      "metadata": {
        "colab": {
          "base_uri": "https://localhost:8080/",
          "height": 755
        },
        "id": "oOKtjoTxF8c6",
        "outputId": "53a5fe9e-97c5-4784-c692-ced3199cf77b"
      },
      "execution_count": 25,
      "outputs": [
        {
          "output_type": "stream",
          "name": "stdout",
          "text": [
            "Train NRMSE with increasing Bias w0 :  [1.55287827e-06 1.67222341e-06 1.69564969e-06 1.66011858e-06\n",
            " 1.82928103e-06 1.90426065e-06 2.00471130e-06 1.96231828e-06\n",
            " 2.19133673e-06 2.32077428e-06]\n",
            "Test NRMSE with increasing Bias w0 :  [1.24154250e-06 1.84151324e-06 1.83094717e-06 1.36053315e-06\n",
            " 2.08408550e-06 2.21192018e-06 2.38159952e-06 1.69446969e-06\n",
            " 2.55194253e-06 2.79954167e-06]\n",
            "Train NRMSE Variance :  5.4921118067306226e-14\n",
            "Train NRMSE Mean :  1.8793552217093952e-06\n",
            "Test NRMSE Variance :  2.2727271260360394e-13\n",
            " Test NRMSE Mean :  1.9998095148606552e-06\n"
          ]
        },
        {
          "output_type": "display_data",
          "data": {
            "text/plain": [
              "<Figure size 432x288 with 1 Axes>"
            ],
            "image/png": "[encoded data removed]"
          },
          "metadata": {
            "needs_background": "light"
          }
        },
        {
          "output_type": "display_data",
          "data": {
            "text/plain": [
              "<Figure size 432x288 with 1 Axes>"
            ],
            "image/png": "[encoded data removed]"
          },
          "metadata": {
            "needs_background": "light"
          }
        },
        {
          "output_type": "display_data",
          "data": {
            "text/plain": [
              "<Figure size 288x144 with 0 Axes>"
            ]
          },
          "metadata": {}
        }
      ]
    },
    {
      "cell_type": "markdown",
      "source": [
        "Observation :\n",
        "- With change in noise variance graph changes very much #check for noise_var=0,3,10. For all of them NRMSE is increasing for increase in w0 \n",
        "- Also keep lambda high,mostly greater than 0.5 "
      ],
      "metadata": {
        "id": "1_p0WjZEJoQd"
      }
    },
    {
      "cell_type": "markdown",
      "source": [
        "e) Training and validation NRMSE obtained using pseudo inverse with lambda"
      ],
      "metadata": {
        "id": "rMGEeqeEQqkz"
      }
    },
    {
      "cell_type": "code",
      "source": [
        "#let n denote the no of samples(fixed=100) and d denote dimensions(fixed=5)\n",
        "#range of lambda 1 chosen from 0.000001 to 100\n",
        "n=50\n",
        "nrmse_train_seed=np.zeros(n)\n",
        "nrmse_test_seed=np.zeros(n)\n",
        "#lambda_one=np.array([-100,-10,-1,0.0001,.001,.01,.1,1,10,100])\n",
        "lambda_one=np.linspace(0,1,n)\n",
        "w_train = np.array([1,23,54,8,9])\n",
        "in_x_e=input_x(500,5)\n",
        "np.random.seed()\n",
        "noise_var=1\n",
        "w0=1\n",
        "t_e=out_t(in_x_e,w_train,i,noise_var)\n",
        "x_train, x_val, t_train, t_test = train_test_split(in_x_e, t_e, test_size=0.2)\n",
        "for i in range(np.size(lambda_one)):\n",
        "  w_train,y_train,mse_pseudo_in_train=weight_pseudo_in(x_train,t_train,lambda_one[i])\n",
        "  t_predict=lin_reg(x_val,w_train)\n",
        "  nrmse_test=np.sqrt((mean_square_error(t_test,t_predict)))/np.var(t_e)\n",
        "  nrmse_train=np.sqrt(mse_pseudo_in_train)/np.var(t_e)\n",
        "  nrmse_train_seed[i]=nrmse_train\n",
        "  nrmse_test_seed[i]=nrmse_test\n",
        "print(\"Train NRMSE with increasing lambda_one : \",nrmse_train_seed )\n",
        "print(\"Test NRMSE with increasing lambda_one : \",nrmse_test_seed )\n",
        "print(\"Train NRMSE Variance : \",np.var(nrmse_train_seed))\n",
        "print(\"Train NRMSE Mean : \",np.mean(nrmse_train_seed))\n",
        "print(\"Test NRMSE Variance : \",np.var(nrmse_test_seed))\n",
        "print(\" Test NRMSE Mean : \",np.mean(nrmse_test_seed))\n",
        "\n",
        "# create the figure and axes\n",
        "fig, ax = plt.subplots()\n",
        "# create the boxplots\n",
        "bp1 = ax.boxplot(nrmse_train_seed, positions=[1], widths=0.6)\n",
        "bp2 = ax.boxplot(nrmse_test_seed, positions=[2], widths=0.6)\n",
        "# customize the boxplots\n",
        "for box in bp1['boxes']:\n",
        "    box.set(color='blue', linewidth=2)\n",
        "for box in bp2['boxes']:\n",
        "    box.set(color='green', linewidth=2)\n",
        "# set the x-axis labels\n",
        "ax.set_xticklabels(['Train Data', 'Test Data'])\n",
        "plt.show()\n",
        "plt.title('Change in nrmse due to increase in lambda_one')\n",
        "plt.xlabel(\"lambda_one\")\n",
        "plt.ylabel(\"NRMSE\")\n",
        "plt.plot(lambda_one,nrmse_train_seed,label ='Train Data')\n",
        "plt.plot(lambda_one,nrmse_test_seed,label ='Test Data')\n",
        "plt.legend(loc = \"upper right\")\n",
        "plt.figure(figsize=(4, 2))\n",
        "plt.show()\n",
        "\n",
        "#it should look like u shaped"
      ],
      "metadata": {
        "colab": {
          "base_uri": "https://localhost:8080/",
          "height": 1000
        },
        "id": "pE5ripmmJ8j4",
        "outputId": "df2671cb-6081-4ea0-eca1-fef1168cdc26"
      },
      "execution_count": 26,
      "outputs": [
        {
          "output_type": "stream",
          "name": "stdout",
          "text": [
            "Train NRMSE with increasing lambda_one :  [1.04269241e-05 1.04269279e-05 1.04269396e-05 1.04269589e-05\n",
            " 1.04269860e-05 1.04270209e-05 1.04270635e-05 1.04271139e-05\n",
            " 1.04271719e-05 1.04272378e-05 1.04273113e-05 1.04273926e-05\n",
            " 1.04274817e-05 1.04275785e-05 1.04276830e-05 1.04277952e-05\n",
            " 1.04279152e-05 1.04280429e-05 1.04281783e-05 1.04283215e-05\n",
            " 1.04284724e-05 1.04286310e-05 1.04287973e-05 1.04289714e-05\n",
            " 1.04291532e-05 1.04293427e-05 1.04295399e-05 1.04297449e-05\n",
            " 1.04299575e-05 1.04301779e-05 1.04304060e-05 1.04306418e-05\n",
            " 1.04308853e-05 1.04311365e-05 1.04313954e-05 1.04316620e-05\n",
            " 1.04319364e-05 1.04322184e-05 1.04325082e-05 1.04328056e-05\n",
            " 1.04331107e-05 1.04334236e-05 1.04337441e-05 1.04340723e-05\n",
            " 1.04344082e-05 1.04347518e-05 1.04351031e-05 1.04354621e-05\n",
            " 1.04358287e-05 1.04362030e-05]\n",
            "Test NRMSE with increasing lambda_one :  [1.01852619e-05 1.01859214e-05 1.01865894e-05 1.01872658e-05\n",
            " 1.01879507e-05 1.01886439e-05 1.01893456e-05 1.01900557e-05\n",
            " 1.01907742e-05 1.01915012e-05 1.01922365e-05 1.01929803e-05\n",
            " 1.01937324e-05 1.01944930e-05 1.01952619e-05 1.01960393e-05\n",
            " 1.01968250e-05 1.01976191e-05 1.01984217e-05 1.01992326e-05\n",
            " 1.02000518e-05 1.02008795e-05 1.02017155e-05 1.02025599e-05\n",
            " 1.02034127e-05 1.02042738e-05 1.02051433e-05 1.02060212e-05\n",
            " 1.02069074e-05 1.02078019e-05 1.02087048e-05 1.02096161e-05\n",
            " 1.02105357e-05 1.02114636e-05 1.02123999e-05 1.02133445e-05\n",
            " 1.02142974e-05 1.02152586e-05 1.02162282e-05 1.02172061e-05\n",
            " 1.02181923e-05 1.02191868e-05 1.02201896e-05 1.02212007e-05\n",
            " 1.02222201e-05 1.02232478e-05 1.02242838e-05 1.02253281e-05\n",
            " 1.02263807e-05 1.02274416e-05]\n",
            "Train NRMSE Variance :  7.98807701622675e-18\n",
            "Train NRMSE Mean :  1.0430050717017668e-05\n",
            "Test NRMSE Variance :  1.5496123641735855e-16\n",
            " Test NRMSE Mean :  1.020471289955901e-05\n"
          ]
        },
        {
          "output_type": "display_data",
          "data": {
            "text/plain": [
              "<Figure size 432x288 with 1 Axes>"
            ],
            "image/png": "[encoded data removed]"
          },
          "metadata": {
            "needs_background": "light"
          }
        },
        {
          "output_type": "display_data",
          "data": {
            "text/plain": [
              "<Figure size 432x288 with 1 Axes>"
            ],
            "image/png": "[encoded data removed]"
          },
          "metadata": {
            "needs_background": "light"
          }
        },
        {
          "output_type": "display_data",
          "data": {
            "text/plain": [
              "<Figure size 288x144 with 0 Axes>"
            ]
          },
          "metadata": {}
        }
      ]
    },
    {
      "cell_type": "markdown",
      "source": [
        "by changing lambda these curves changes very much try lesser lambda"
      ],
      "metadata": {
        "id": "aZ-VzqUUg3sW"
      }
    },
    {
      "cell_type": "markdown",
      "source": [
        "f) Time taken to solve pseudo inverse with number of samples and number of variables and its breaking points"
      ],
      "metadata": {
        "id": "qlc14Iy0Q3u3"
      }
    },
    {
      "cell_type": "code",
      "source": [
        "import time\n",
        "samples=np.array([10,100,1000,10000,100000,1000000])\n",
        "time_count_train=np.zeros(np.size(samples))\n",
        "time_count_test=np.zeros(np.size(samples))\n",
        "np.random.seed()\n",
        "w_train = np.array([1,23,54,8,9])\n",
        "w_validate_f=np.array([0.5,20,45,6,6])\n",
        "for i in range(np.size(samples)):\n",
        "  in_x_f = input_x(samples[i],5)\n",
        "  t_f=out_t(in_x_f,w_validate_f)\n",
        "  x_train, x_val, t_train, t_test = train_test_split(in_x_f, t_f, test_size=0.2)\n",
        "  tic = time.perf_counter()\n",
        "  w_train,y_train,mse_pseudo_in_train=weight_pseudo_in(x_train,t_train,0.1)\n",
        "  toc = time.perf_counter()\n",
        "  time_count_train[i]=toc-tic\n",
        "  tic = time.perf_counter()\n",
        "  t_predict=lin_reg(x_val,w_train)\n",
        "  toc = time.perf_counter()\n",
        "  time_count_test[i]=toc-tic\n",
        "\n",
        "plt.title('Time v/s Sample Size')\n",
        "plt.xlabel(\"Samples\")\n",
        "plt.ylabel(\"Time\")\n",
        "plt.plot(samples,time_count_train,label ='Train Data')\n",
        "plt.plot(samples,time_count_test,label ='Test Data')\n",
        "plt.legend(loc = \"upper right\")\n",
        "plt.figure(figsize=(4, 2))\n",
        "plt.show()"
      ],
      "metadata": {
        "colab": {
          "base_uri": "https://localhost:8080/",
          "height": 313
        },
        "id": "ltF5C8dRV44n",
        "outputId": "39e2fc06-b9f3-41a8-effd-6414e90ad4b7"
      },
      "execution_count": 27,
      "outputs": [
        {
          "output_type": "display_data",
          "data": {
            "text/plain": [
              "<Figure size 432x288 with 1 Axes>"
            ],
            "image/png": "[encoded data removed]"
          },
          "metadata": {
            "needs_background": "light"
          }
        },
        {
          "output_type": "display_data",
          "data": {
            "text/plain": [
              "<Figure size 288x144 with 0 Axes>"
            ]
          },
          "metadata": {}
        }
      ]
    },
    {
      "cell_type": "markdown",
      "source": [
        "With increasing samples upto $10^7$ terms program is running but for $10^9$ samples it lasted more than 30 minutes until interupted.It is nonlinear upto 1000 samples and after that it is completely linear."
      ],
      "metadata": {
        "id": "ozwPUVnvCNH5"
      }
    },
    {
      "cell_type": "markdown",
      "source": [
        "g) Training and validation NRMSE obtained using gradient descent with max_iter "
      ],
      "metadata": {
        "id": "hXvl1y1C86xo"
      }
    },
    {
      "cell_type": "code",
      "source": [
        "n= 200 #Here n is max_iter(variable)\n",
        "\n",
        "nrmse_train_seed=np.zeros(n)\n",
        "nrmse_test_seed=np.zeros(n)\n",
        "np.random.seed(1)\n",
        "in_x_g = input_x(1000,8)\n",
        "w_g = np.array([11,23,54,8,9,33,46,78])\n",
        "t=out_t(in_x_g,w_g)\n",
        "eta = 0.0001\n",
        "lambda2 = 0\n",
        "lambda1 = 1\n",
        "min_change_NRMSE = 0.0000001\n",
        "x_train, x_val, t_train, t_test = train_test_split(in_x_g, t, test_size=0.2)\n",
        "for i in range(1,n):\n",
        "  final_w_train, final_nrmse_train ,no_iter_train= linear_regression_grad_desc(x_train, t_train, w_g, eta, lambda2, lambda1, min_change_NRMSE,i)\n",
        "  #print(no_iter_train)\n",
        "  t_predict=lin_reg(x_val,final_w_train)\n",
        "  final_nrmse_test=np.sqrt((mean_square_error(t_test,t_predict)))/np.var(t_test)\n",
        "  nrmse_train_seed[i]=final_nrmse_train\n",
        "  nrmse_test_seed[i]=final_nrmse_test\n",
        "\n",
        "print(\"Train NRMSE with increasing max_iter : \",nrmse_train_seed )\n",
        "print(\"Test NRMSE with increasing max_iter : \",nrmse_test_seed )\n",
        "print(\"Train NRMSE Variance : \",np.var(nrmse_train_seed))\n",
        "print(\"Train NRMSE Mean : \",np.mean(nrmse_train_seed))\n",
        "print(\"Test NRMSE Variance : \",np.var(nrmse_test_seed))\n",
        "print(\" Test NRMSE Mean : \",np.mean(nrmse_test_seed))\n",
        "\n",
        "# create the figure and axes\n",
        "fig, ax = plt.subplots()\n",
        "# create the boxplots\n",
        "bp1 = ax.boxplot(nrmse_train_seed, positions=[1], widths=0.6)\n",
        "bp2 = ax.boxplot(nrmse_test_seed, positions=[2], widths=0.6)\n",
        "# customize the boxplots\n",
        "for box in bp1['boxes']:\n",
        "    box.set(color='blue', linewidth=2)\n",
        "for box in bp2['boxes']:\n",
        "    box.set(color='green', linewidth=2)\n",
        "# set the x-axis labels\n",
        "ax.set_xticklabels(['Train Data', 'Test Data'])\n",
        "plt.show()\n",
        "plt.title('Change in nrmse due to increase in max_iter')\n",
        "plt.xlabel(\"max_iter\")\n",
        "plt.ylabel(\"NRMSE\")\n",
        "plt.plot(np.arange(n),nrmse_train_seed,label ='Train Data')\n",
        "plt.plot(np.arange(n),nrmse_test_seed,label ='Test Data')\n",
        "plt.legend(loc = \"upper right\")\n",
        "plt.figure(figsize=(4, 2))\n",
        "plt.show()\n",
        "#it should monotonically decrease"
      ],
      "metadata": {
        "id": "dXUxlR7j9AGg",
        "colab": {
          "base_uri": "https://localhost:8080/",
          "height": 1000
        },
        "outputId": "ededabdf-d0e0-4f0d-d5e7-b514ec641973"
      },
      "execution_count": 28,
      "outputs": [
        {
          "output_type": "stream",
          "name": "stdout",
          "text": [
            "Train NRMSE with increasing max_iter :  [0.00000000e+00 6.84820035e-06 6.84723830e-06 6.84723830e-06\n",
            " 6.84723830e-06 6.84723830e-06 6.84723830e-06 6.84723830e-06\n",
            " 6.84723830e-06 6.84723830e-06 6.84723830e-06 6.84723830e-06\n",
            " 6.84723830e-06 6.84723830e-06 6.84723830e-06 6.84723830e-06\n",
            " 6.84723830e-06 6.84723830e-06 6.84723830e-06 6.84723830e-06\n",
            " 6.84723830e-06 6.84723830e-06 6.84723830e-06 6.84723830e-06\n",
            " 6.84723830e-06 6.84723830e-06 6.84723830e-06 6.84723830e-06\n",
            " 6.84723830e-06 6.84723830e-06 6.84723830e-06 6.84723830e-06\n",
            " 6.84723830e-06 6.84723830e-06 6.84723830e-06 6.84723830e-06\n",
            " 6.84723830e-06 6.84723830e-06 6.84723830e-06 6.84723830e-06\n",
            " 6.84723830e-06 6.84723830e-06 6.84723830e-06 6.84723830e-06\n",
            " 6.84723830e-06 6.84723830e-06 6.84723830e-06 6.84723830e-06\n",
            " 6.84723830e-06 6.84723830e-06 6.84723830e-06 6.84723830e-06\n",
            " 6.84723830e-06 6.84723830e-06 6.84723830e-06 6.84723830e-06\n",
            " 6.84723830e-06 6.84723830e-06 6.84723830e-06 6.84723830e-06\n",
            " 6.84723830e-06 6.84723830e-06 6.84723830e-06 6.84723830e-06\n",
            " 6.84723830e-06 6.84723830e-06 6.84723830e-06 6.84723830e-06\n",
            " 6.84723830e-06 6.84723830e-06 6.84723830e-06 6.84723830e-06\n",
            " 6.84723830e-06 6.84723830e-06 6.84723830e-06 6.84723830e-06\n",
            " 6.84723830e-06 6.84723830e-06 6.84723830e-06 6.84723830e-06\n",
            " 6.84723830e-06 6.84723830e-06 6.84723830e-06 6.84723830e-06\n",
            " 6.84723830e-06 6.84723830e-06 6.84723830e-06 6.84723830e-06\n",
            " 6.84723830e-06 6.84723830e-06 6.84723830e-06 6.84723830e-06\n",
            " 6.84723830e-06 6.84723830e-06 6.84723830e-06 6.84723830e-06\n",
            " 6.84723830e-06 6.84723830e-06 6.84723830e-06 6.84723830e-06\n",
            " 6.84723830e-06 6.84723830e-06 6.84723830e-06 6.84723830e-06\n",
            " 6.84723830e-06 6.84723830e-06 6.84723830e-06 6.84723830e-06\n",
            " 6.84723830e-06 6.84723830e-06 6.84723830e-06 6.84723830e-06\n",
            " 6.84723830e-06 6.84723830e-06 6.84723830e-06 6.84723830e-06\n",
            " 6.84723830e-06 6.84723830e-06 6.84723830e-06 6.84723830e-06\n",
            " 6.84723830e-06 6.84723830e-06 6.84723830e-06 6.84723830e-06\n",
            " 6.84723830e-06 6.84723830e-06 6.84723830e-06 6.84723830e-06\n",
            " 6.84723830e-06 6.84723830e-06 6.84723830e-06 6.84723830e-06\n",
            " 6.84723830e-06 6.84723830e-06 6.84723830e-06 6.84723830e-06\n",
            " 6.84723830e-06 6.84723830e-06 6.84723830e-06 6.84723830e-06\n",
            " 6.84723830e-06 6.84723830e-06 6.84723830e-06 6.84723830e-06\n",
            " 6.84723830e-06 6.84723830e-06 6.84723830e-06 6.84723830e-06\n",
            " 6.84723830e-06 6.84723830e-06 6.84723830e-06 6.84723830e-06\n",
            " 6.84723830e-06 6.84723830e-06 6.84723830e-06 6.84723830e-06\n",
            " 6.84723830e-06 6.84723830e-06 6.84723830e-06 6.84723830e-06\n",
            " 6.84723830e-06 6.84723830e-06 6.84723830e-06 6.84723830e-06\n",
            " 6.84723830e-06 6.84723830e-06 6.84723830e-06 6.84723830e-06\n",
            " 6.84723830e-06 6.84723830e-06 6.84723830e-06 6.84723830e-06\n",
            " 6.84723830e-06 6.84723830e-06 6.84723830e-06 6.84723830e-06\n",
            " 6.84723830e-06 6.84723830e-06 6.84723830e-06 6.84723830e-06\n",
            " 6.84723830e-06 6.84723830e-06 6.84723830e-06 6.84723830e-06\n",
            " 6.84723830e-06 6.84723830e-06 6.84723830e-06 6.84723830e-06\n",
            " 6.84723830e-06 6.84723830e-06 6.84723830e-06 6.84723830e-06\n",
            " 6.84723830e-06 6.84723830e-06 6.84723830e-06 6.84723830e-06\n",
            " 6.84723830e-06 6.84723830e-06 6.84723830e-06 6.84723830e-06]\n",
            "Test NRMSE with increasing max_iter :  [0.00000000e+00 6.41085983e-06 6.41088976e-06 6.41088976e-06\n",
            " 6.41088976e-06 6.41088976e-06 6.41088976e-06 6.41088976e-06\n",
            " 6.41088976e-06 6.41088976e-06 6.41088976e-06 6.41088976e-06\n",
            " 6.41088976e-06 6.41088976e-06 6.41088976e-06 6.41088976e-06\n",
            " 6.41088976e-06 6.41088976e-06 6.41088976e-06 6.41088976e-06\n",
            " 6.41088976e-06 6.41088976e-06 6.41088976e-06 6.41088976e-06\n",
            " 6.41088976e-06 6.41088976e-06 6.41088976e-06 6.41088976e-06\n",
            " 6.41088976e-06 6.41088976e-06 6.41088976e-06 6.41088976e-06\n",
            " 6.41088976e-06 6.41088976e-06 6.41088976e-06 6.41088976e-06\n",
            " 6.41088976e-06 6.41088976e-06 6.41088976e-06 6.41088976e-06\n",
            " 6.41088976e-06 6.41088976e-06 6.41088976e-06 6.41088976e-06\n",
            " 6.41088976e-06 6.41088976e-06 6.41088976e-06 6.41088976e-06\n",
            " 6.41088976e-06 6.41088976e-06 6.41088976e-06 6.41088976e-06\n",
            " 6.41088976e-06 6.41088976e-06 6.41088976e-06 6.41088976e-06\n",
            " 6.41088976e-06 6.41088976e-06 6.41088976e-06 6.41088976e-06\n",
            " 6.41088976e-06 6.41088976e-06 6.41088976e-06 6.41088976e-06\n",
            " 6.41088976e-06 6.41088976e-06 6.41088976e-06 6.41088976e-06\n",
            " 6.41088976e-06 6.41088976e-06 6.41088976e-06 6.41088976e-06\n",
            " 6.41088976e-06 6.41088976e-06 6.41088976e-06 6.41088976e-06\n",
            " 6.41088976e-06 6.41088976e-06 6.41088976e-06 6.41088976e-06\n",
            " 6.41088976e-06 6.41088976e-06 6.41088976e-06 6.41088976e-06\n",
            " 6.41088976e-06 6.41088976e-06 6.41088976e-06 6.41088976e-06\n",
            " 6.41088976e-06 6.41088976e-06 6.41088976e-06 6.41088976e-06\n",
            " 6.41088976e-06 6.41088976e-06 6.41088976e-06 6.41088976e-06\n",
            " 6.41088976e-06 6.41088976e-06 6.41088976e-06 6.41088976e-06\n",
            " 6.41088976e-06 6.41088976e-06 6.41088976e-06 6.41088976e-06\n",
            " 6.41088976e-06 6.41088976e-06 6.41088976e-06 6.41088976e-06\n",
            " 6.41088976e-06 6.41088976e-06 6.41088976e-06 6.41088976e-06\n",
            " 6.41088976e-06 6.41088976e-06 6.41088976e-06 6.41088976e-06\n",
            " 6.41088976e-06 6.41088976e-06 6.41088976e-06 6.41088976e-06\n",
            " 6.41088976e-06 6.41088976e-06 6.41088976e-06 6.41088976e-06\n",
            " 6.41088976e-06 6.41088976e-06 6.41088976e-06 6.41088976e-06\n",
            " 6.41088976e-06 6.41088976e-06 6.41088976e-06 6.41088976e-06\n",
            " 6.41088976e-06 6.41088976e-06 6.41088976e-06 6.41088976e-06\n",
            " 6.41088976e-06 6.41088976e-06 6.41088976e-06 6.41088976e-06\n",
            " 6.41088976e-06 6.41088976e-06 6.41088976e-06 6.41088976e-06\n",
            " 6.41088976e-06 6.41088976e-06 6.41088976e-06 6.41088976e-06\n",
            " 6.41088976e-06 6.41088976e-06 6.41088976e-06 6.41088976e-06\n",
            " 6.41088976e-06 6.41088976e-06 6.41088976e-06 6.41088976e-06\n",
            " 6.41088976e-06 6.41088976e-06 6.41088976e-06 6.41088976e-06\n",
            " 6.41088976e-06 6.41088976e-06 6.41088976e-06 6.41088976e-06\n",
            " 6.41088976e-06 6.41088976e-06 6.41088976e-06 6.41088976e-06\n",
            " 6.41088976e-06 6.41088976e-06 6.41088976e-06 6.41088976e-06\n",
            " 6.41088976e-06 6.41088976e-06 6.41088976e-06 6.41088976e-06\n",
            " 6.41088976e-06 6.41088976e-06 6.41088976e-06 6.41088976e-06\n",
            " 6.41088976e-06 6.41088976e-06 6.41088976e-06 6.41088976e-06\n",
            " 6.41088976e-06 6.41088976e-06 6.41088976e-06 6.41088976e-06\n",
            " 6.41088976e-06 6.41088976e-06 6.41088976e-06 6.41088976e-06\n",
            " 6.41088976e-06 6.41088976e-06 6.41088976e-06 6.41088976e-06\n",
            " 6.41088976e-06 6.41088976e-06 6.41088976e-06 6.41088976e-06]\n",
            "Train NRMSE Variance :  2.3325157853077207e-13\n",
            "Train NRMSE Mean :  6.813006914081847e-06\n",
            "Test NRMSE Variance :  2.0447004022738142e-13\n",
            " Test NRMSE Mean :  6.378835160463253e-06\n"
          ]
        },
        {
          "output_type": "display_data",
          "data": {
            "text/plain": [
              "<Figure size 432x288 with 1 Axes>"
            ],
            "image/png": "[encoded data removed]"
          },
          "metadata": {
            "needs_background": "light"
          }
        },
        {
          "output_type": "display_data",
          "data": {
            "text/plain": [
              "<Figure size 432x288 with 1 Axes>"
            ],
            "image/png": "[encoded data removed]"
          },
          "metadata": {
            "needs_background": "light"
          }
        },
        {
          "output_type": "display_data",
          "data": {
            "text/plain": [
              "<Figure size 288x144 with 0 Axes>"
            ]
          },
          "metadata": {}
        }
      ]
    },
    {
      "cell_type": "markdown",
      "source": [
        "Observation : we can say that max_iter doesn't have difference between test and train data at lower values upto 200."
      ],
      "metadata": {
        "id": "_UjaxfbA10F-"
      }
    },
    {
      "cell_type": "markdown",
      "source": [
        "h) Training and validation NRMSE obtained using gradient descent with eta"
      ],
      "metadata": {
        "id": "FgGp0U1WgQ7W"
      }
    },
    {
      "cell_type": "code",
      "source": [
        "n= 11 #Here n is number of  eta(variable)\n",
        "eta=np.array([0.00000000001,0.000000001,0.00000001,0.00000001,.000001,0.00001,.0001,0.001,0.01,.1,1])#Size of this matrix should be eqal to #n\n",
        "nrmse_train_seed=np.zeros(n)\n",
        "nrmse_test_seed=np.zeros(n)\n",
        "np.random.seed(1)\n",
        "in_x_h = input_x(200,5)\n",
        "w_h = np.array([1,3,4,8,9])\n",
        "w0=2\n",
        "t=out_t(in_x_h,w_h,w0,10)\n",
        "x_train, x_val, t_train, t_test = train_test_split(in_x_h, t, test_size=0.2)\n",
        "lambda2 = 1\n",
        "lambda1 = 1\n",
        "min_change_NRMSE = 0.000000001\n",
        "max_iter=10000\n",
        "for i in range(n):\n",
        "  final_w_train, final_nrmse_train ,no_iter_train= linear_regression_grad_desc(x_train, t_train, w_h, eta[i], lambda2, lambda1, min_change_NRMSE,max_iter)\n",
        "  t_predict=lin_reg(x_val,final_w_train)\n",
        "  final_nrmse_test=np.sqrt((mean_square_error(t_test,t_predict)))/np.var(t_test)\n",
        "  nrmse_train_seed[i]=final_nrmse_train\n",
        "  nrmse_test_seed[i]=final_nrmse_test\n",
        "print(\"Train NRMSE with increasing eta : \",nrmse_train_seed )\n",
        "print(\"Test NRMSE with increasing eta : \",nrmse_test_seed )\n",
        "print(\"Train NRMSE Variance : \",np.var(nrmse_train_seed))\n",
        "print(\"Train NRMSE Mean : \",np.mean(nrmse_train_seed))\n",
        "print(\"Test NRMSE Variance : \",np.var(nrmse_test_seed))\n",
        "print(\" Test NRMSE Mean : \",np.mean(nrmse_test_seed))\n",
        "\n",
        "# create the figure and axes\n",
        "fig, ax = plt.subplots()\n",
        "# create the boxplots\n",
        "bp1 = ax.boxplot(nrmse_train_seed, positions=[1], widths=0.6)\n",
        "bp2 = ax.boxplot(nrmse_test_seed, positions=[2], widths=0.6)\n",
        "# customize the boxplots\n",
        "for box in bp1['boxes']:\n",
        "    box.set(color='blue', linewidth=2)\n",
        "for box in bp2['boxes']:\n",
        "    box.set(color='green', linewidth=2)\n",
        "# set the x-axis labels\n",
        "ax.set_xticklabels(['Train Data', 'Test Data'])\n",
        "plt.show()\n",
        "plt.title('Change in nrmse due to increase in eta')\n",
        "plt.xlabel(\"eta\")\n",
        "plt.ylabel(\"(NRMSE)\")\n",
        "plt.plot(eta,(nrmse_train_seed),label ='Train Data')\n",
        "plt.plot(eta,(nrmse_test_seed),label ='Test Data')\n",
        "plt.legend(loc = \"upper right\")\n",
        "plt.figure(figsize=(4, 2))\n",
        "plt.show()"
      ],
      "metadata": {
        "colab": {
          "base_uri": "https://localhost:8080/",
          "height": 854
        },
        "id": "UR2Rt3rXoDdm",
        "outputId": "015494cd-31c0-4e52-fecb-0cfccbfae238"
      },
      "execution_count": 29,
      "outputs": [
        {
          "output_type": "stream",
          "name": "stdout",
          "text": [
            "Train NRMSE with increasing eta :  [0.00266163 0.00266163 0.00266163 0.00266163 0.00268703 0.00292584\n",
            " 0.00296183 0.002962   0.00294424        inf        inf]\n",
            "Test NRMSE with increasing eta :  [0.00295115 0.00295115 0.00295115 0.00295115 0.00301338 0.00338701\n",
            " 0.00344686 0.00344769 0.00350752        inf        inf]\n",
            "Train NRMSE Variance :  nan\n",
            "Train NRMSE Mean :  inf\n",
            "Test NRMSE Variance :  nan\n",
            " Test NRMSE Mean :  inf\n"
          ]
        },
        {
          "output_type": "stream",
          "name": "stderr",
          "text": [
            "/usr/local/lib/python3.8/dist-packages/numpy/core/_methods.py:179: RuntimeWarning: overflow encountered in reduce\n",
            "  ret = umr_sum(arr, axis, dtype, out, keepdims, where=where)\n",
            "<ipython-input-17-797c5d56c572>:6: RuntimeWarning: invalid value encountered in double_scalars\n",
            "  while( number_iterations < max_iter and  min_change_NRMSE<abs(old_nrmse - new_nrmse)) :\n",
            "<ipython-input-9-8c0affc54b5e>:2: RuntimeWarning: overflow encountered in square\n",
            "  mse=np.mean((t-y)**2)#np.mean is used to find mean\n",
            "/usr/local/lib/python3.8/dist-packages/numpy/core/_methods.py:230: RuntimeWarning: invalid value encountered in subtract\n",
            "  x = asanyarray(arr - arrmean)\n"
          ]
        },
        {
          "output_type": "display_data",
          "data": {
            "text/plain": [
              "<Figure size 432x288 with 1 Axes>"
            ],
            "image/png": "[encoded data removed]"
          },
          "metadata": {
            "needs_background": "light"
          }
        },
        {
          "output_type": "display_data",
          "data": {
            "text/plain": [
              "<Figure size 432x288 with 1 Axes>"
            ],
            "image/png": "[encoded data removed]"
          },
          "metadata": {
            "needs_background": "light"
          }
        },
        {
          "output_type": "display_data",
          "data": {
            "text/plain": [
              "<Figure size 288x144 with 0 Axes>"
            ]
          },
          "metadata": {}
        }
      ]
    },
    {
      "cell_type": "markdown",
      "source": [
        "Observation : \n",
        "- As eta increases nrmse initially decreases and then increases abrubtly very high rate above eta 0.01 nrmse becomes very high (infinity)\n",
        "- nrmse in test is higher than with the train data but the difference is almost constant"
      ],
      "metadata": {
        "id": "mQwqbciMdmHf"
      }
    },
    {
      "cell_type": "markdown",
      "source": [
        "i) Time taken to solve gradient descent with number of samples and number of variables and its breaking points"
      ],
      "metadata": {
        "id": "OgGVPOp_gfkx"
      }
    },
    {
      "cell_type": "code",
      "source": [
        "n= 10000 #Here n is number of samples(variable)\n",
        "samples=np.array([10,100,1000,10000,100000,1000000])\n",
        "time_count_train=np.zeros(np.size(samples))\n",
        "time_count_test=np.zeros(np.size(samples))\n",
        "nrmse=np.zeros(n)\n",
        "np.random.seed(1)\n",
        "w_i = np.array([11,23,54,8,9,33,46,78])\n",
        "eta = 0.000001\n",
        "lambda2 = 0.1\n",
        "lambda1 = 0.1\n",
        "min_change_NRMSE = 0.000000001\n",
        "max_iter=500\n",
        "for i in range(np.size(samples)):\n",
        "  in_x_i = input_x(samples[i],8)\n",
        "  t_i=out_t(in_x_i,w_i)\n",
        "  x_train, x_val, t_train, t_test = train_test_split(in_x_i, t_i, test_size=0.2)\n",
        "  final_w, final_nrmse ,no_iter= linear_regression_grad_desc(in_x_i, t_i, w_i, eta, lambda2, lambda1, min_change_NRMSE,max_iter)\n",
        "  tic = time.perf_counter()\n",
        "  w_train,y_train,mse_pseudo_in_train=weight_pseudo_in(x_train,t_train,0.1)\n",
        "  toc = time.perf_counter()\n",
        "  time_count_train[i]=toc-tic\n",
        "  tic = time.perf_counter()\n",
        "  w_test,y_test,mse_pseudo_in_test=weight_pseudo_in(x_val,t_test,0.1)\n",
        "  toc = time.perf_counter()\n",
        "  time_count_test[i]=toc-tic\n",
        "\n",
        "plt.title('Time v/s Sample Size')\n",
        "plt.xlabel(\"Samples\")\n",
        "plt.ylabel(\"Time\")\n",
        "plt.plot(samples,time_count_train,label ='Train Data')\n",
        "plt.plot(samples,time_count_test,label ='Test Data')\n",
        "plt.legend(loc = \"upper right\")\n",
        "plt.figure(figsize=(4, 2))\n",
        "plt.show()"
      ],
      "metadata": {
        "colab": {
          "base_uri": "https://localhost:8080/",
          "height": 313
        },
        "id": "Awc2EUiA7z6B",
        "outputId": "38a1dcb2-ca3d-4c8c-e954-c8c528b85497"
      },
      "execution_count": 30,
      "outputs": [
        {
          "output_type": "display_data",
          "data": {
            "text/plain": [
              "<Figure size 432x288 with 1 Axes>"
            ],
            "image/png": "[encoded data removed]"
          },
          "metadata": {
            "needs_background": "light"
          }
        },
        {
          "output_type": "display_data",
          "data": {
            "text/plain": [
              "<Figure size 288x144 with 0 Axes>"
            ]
          },
          "metadata": {}
        }
      ]
    },
    {
      "cell_type": "markdown",
      "source": [
        "Observation : As number of samples increases time taken increases linearly."
      ],
      "metadata": {
        "id": "yMpo1EMy-cQZ"
      }
    },
    {
      "cell_type": "markdown",
      "source": [
        "j) Time taken to solve gradient descent with number of variables and its breaking point \\\\\n",
        "**Skipped**"
      ],
      "metadata": {
        "id": "Ng8Tx1R-glDj"
      }
    },
    {
      "cell_type": "markdown",
      "source": [
        "k) Training and validation NRMSE and number of nearly zero weights obtained using gradient descent with lambda2 "
      ],
      "metadata": {
        "id": "ucPvIoYFgs1C"
      }
    },
    {
      "cell_type": "code",
      "source": [
        "n= 10 #Here n is number of lambda 2 values(variable)\n",
        "lambda2=np.linspace(0,1,n)#Size of this matrix should be eqal to #n\n",
        "nrmse_train_seed=np.zeros(n)\n",
        "nrmse_test_seed=np.zeros(n)\n",
        "np.random.seed(1)\n",
        "in_x_k = input_x(500,5)\n",
        "w_k = np.array([.01,.03,.046,.088,.19])#nearly zero weights\n",
        "t_k=out_t(in_x_k,w_k)\n",
        "x_train, x_val, t_train, t_test = train_test_split(in_x_k, t_k, test_size=0.2)\n",
        "eta = 0.00001\n",
        "lambda1 = 0.1\n",
        "min_change_NRMSE = 0.0000001\n",
        "max_iter=100000\n",
        "for i in range(n):\n",
        "  final_w_train, final_nrmse_train ,no_iter_train= linear_regression_grad_desc(x_train, t_train, w_k, eta, lambda2[i], lambda1, min_change_NRMSE,max_iter)\n",
        "  t_predict=lin_reg(x_val,final_w_train)\n",
        "  final_nrmse_test=np.sqrt((mean_square_error(t_test,t_predict)))/np.var(t_test)\n",
        "  nrmse_train_seed[i]=final_nrmse_train\n",
        "  nrmse_test_seed[i]=final_nrmse_test\n",
        "\n",
        "print(\"Train NRMSE with increasing lambda2 : \",nrmse_train_seed )\n",
        "print(\"Test NRMSE with increasing lambda2 : \",nrmse_test_seed )\n",
        "print(\"Train NRMSE Variance : \",np.var(nrmse_train_seed))\n",
        "print(\"Train NRMSE Mean : \",np.mean(nrmse_train_seed))\n",
        "print(\"Test NRMSE Variance : \",np.var(nrmse_test_seed))\n",
        "print(\" Test NRMSE Mean : \",np.mean(nrmse_test_seed))\n",
        "\n",
        "# create the figure and axes\n",
        "fig, ax = plt.subplots()\n",
        "# create the boxplots\n",
        "bp1 = ax.boxplot(nrmse_train_seed, positions=[1], widths=0.6)\n",
        "bp2 = ax.boxplot(nrmse_test_seed, positions=[2], widths=0.6)\n",
        "# customize the boxplots\n",
        "for box in bp1['boxes']:\n",
        "    box.set(color='blue', linewidth=2)\n",
        "for box in bp2['boxes']:\n",
        "    box.set(color='green', linewidth=2)\n",
        "# set the x-axis labels\n",
        "ax.set_xticklabels(['Train Data', 'Test Data'])\n",
        "plt.show()\n",
        "plt.title('Change in nrmse due to increase in lambda2')\n",
        "plt.xlabel(\"lambda2\")\n",
        "plt.ylabel(\"NRMSE\")\n",
        "plt.plot(lambda2,nrmse_train_seed,label ='Train Data')\n",
        "plt.plot(lambda2,nrmse_test_seed,label ='Test Data')\n",
        "plt.legend(loc = \"upper right\")\n",
        "plt.figure(figsize=(4, 2))\n",
        "plt.show()"
      ],
      "metadata": {
        "colab": {
          "base_uri": "https://localhost:8080/",
          "height": 707
        },
        "id": "Q5ZIXSiEsPNM",
        "outputId": "cc1056cb-5c2a-43b8-b85b-6ce32bd06a6c"
      },
      "execution_count": 31,
      "outputs": [
        {
          "output_type": "stream",
          "name": "stdout",
          "text": [
            "Train NRMSE with increasing lambda2 :  [0.67281374 0.67286505 0.67295666 0.6730861  0.67325107 0.67344941\n",
            " 0.67367906 0.6739381  0.67422471 0.67453718]\n",
            "Test NRMSE with increasing lambda2 :  [0.58353305 0.58299917 0.58252575 0.58210954 0.58174748 0.58143665\n",
            " 0.58117432 0.58095787 0.58078484 0.5806529 ]\n",
            "Train NRMSE Variance :  3.226165194107343e-07\n",
            "Train NRMSE Mean :  0.673480107509959\n",
            "Test NRMSE Variance :  8.64520912734479e-07\n",
            " Test NRMSE Mean :  0.5817921578334871\n"
          ]
        },
        {
          "output_type": "display_data",
          "data": {
            "text/plain": [
              "<Figure size 432x288 with 1 Axes>"
            ],
            "image/png": "[encoded data removed]"
          },
          "metadata": {
            "needs_background": "light"
          }
        },
        {
          "output_type": "display_data",
          "data": {
            "text/plain": [
              "<Figure size 432x288 with 1 Axes>"
            ],
            "image/png": "[encoded data removed]"
          },
          "metadata": {
            "needs_background": "light"
          }
        },
        {
          "output_type": "display_data",
          "data": {
            "text/plain": [
              "<Figure size 288x144 with 0 Axes>"
            ]
          },
          "metadata": {}
        }
      ]
    },
    {
      "cell_type": "markdown",
      "source": [
        "Observation :\n",
        "- Optimal lambda2 is coming out to be 1.\n",
        "- Error increases non linearly(looks like quadratic) with increase in "
      ],
      "metadata": {
        "id": "JNnn7HuTvzG6"
      }
    },
    {
      "cell_type": "markdown",
      "source": [
        "l) Training and validation NRMSE and number of nearly zero weights obtained using gradient descent with lambda1"
      ],
      "metadata": {
        "id": "gb71wnRJgx23"
      }
    },
    {
      "cell_type": "code",
      "source": [
        "n= 20 #Here n is number of lambda 1 values(variable)\n",
        "#lambda1=np.array([0.001,0.01,0.1,1,5,10,100,150,200,300,318,330,350,400,500,1000,2000,3000])#Size of this matrix should be eqal to #n\n",
        "lambda1=np.linspace(0,1,n)#Size of this matrix should be eqal to #n\n",
        "nrmse_train_seed=np.zeros(n)\n",
        "nrmse_test_seed=np.zeros(n)\n",
        "np.random.seed(1)\n",
        "in_x_l = input_x(5000,5)#dont change input\n",
        "w_l = np.array([.01,.2,.14,.03,.09])\n",
        "t_l=out_t(in_x_l,w_l)\n",
        "x_train, x_val, t_train, t_test = train_test_split(in_x_l, t_l, test_size=0.2)\n",
        "eta = 0.0001\n",
        "lambda2 = 1\n",
        "min_change_NRMSE = 0.0000001\n",
        "max_iter=1000\n",
        "for i in range(n):\n",
        "  final_w_train, final_nrmse_train ,no_iter_train= linear_regression_grad_desc(x_train, t_train, w_l, eta, lambda2, lambda1[i], min_change_NRMSE,max_iter)\n",
        "  t_predict=lin_reg(x_val,final_w_train)\n",
        "  final_nrmse_test=np.sqrt((mean_square_error(t_test,t_predict)))/np.var(t_test)\n",
        "  nrmse_train_seed[i]=final_nrmse_train\n",
        "  nrmse_test_seed[i]=final_nrmse_test\n",
        "\n",
        "print(\"Train NRMSE with increasing lambda1 : \",nrmse_train_seed )\n",
        "print(\"Test NRMSE with increasing lambda1 : \",nrmse_test_seed )\n",
        "print(\"Train NRMSE Variance : \",np.var(nrmse_train_seed))\n",
        "print(\"Train NRMSE Mean : \",np.mean(nrmse_train_seed))\n",
        "print(\"Test NRMSE Variance : \",np.var(nrmse_test_seed))\n",
        "print(\" Test NRMSE Mean : \",np.mean(nrmse_test_seed))\n",
        "\n",
        "# create the figure and axes\n",
        "fig, ax = plt.subplots()\n",
        "# create the boxplots\n",
        "bp1 = ax.boxplot(nrmse_train_seed, positions=[1], widths=0.6)\n",
        "bp2 = ax.boxplot(nrmse_test_seed, positions=[2], widths=0.6)\n",
        "# customize the boxplots\n",
        "for box in bp1['boxes']:\n",
        "    box.set(color='blue', linewidth=2)\n",
        "for box in bp2['boxes']:\n",
        "    box.set(color='green', linewidth=2)\n",
        "# set the x-axis labels\n",
        "ax.set_xticklabels(['Train Data', 'Test Data'])\n",
        "plt.show()\n",
        "plt.title('Change in nrmse due to increase in lambda1')\n",
        "plt.xlabel(\"lambda1\")\n",
        "plt.ylabel(\"NRMSE\")\n",
        "plt.plot(lambda1,nrmse_train_seed,label ='Train Data')\n",
        "plt.plot(lambda1,nrmse_test_seed,label ='Test Data')\n",
        "plt.legend(loc = \"upper right\")\n",
        "plt.figure(figsize=(4, 2))\n",
        "plt.show()"
      ],
      "metadata": {
        "colab": {
          "base_uri": "https://localhost:8080/",
          "height": 780
        },
        "id": "3HWtCmifs7_s",
        "outputId": "fef713e6-669b-4899-ca4c-4537103f06b1"
      },
      "execution_count": 32,
      "outputs": [
        {
          "output_type": "stream",
          "name": "stdout",
          "text": [
            "Train NRMSE with increasing lambda1 :  [0.77116644 0.77147507 0.77184539 0.77227729 0.77277069 0.77332545\n",
            " 0.77394146 0.77461856 0.77535659 0.77615539 0.77701475 0.77793449\n",
            " 0.77891438 0.77995421 0.78105372 0.78221268 0.78343081 0.78470784\n",
            " 0.78604349 0.78743745]\n",
            "Test NRMSE with increasing lambda1 :  [0.73703176 0.73714464 0.73731828 0.73755265 0.73784768 0.7382033\n",
            " 0.73861943 0.73909596 0.73963277 0.74022974 0.74088671 0.74160354\n",
            " 0.74238004 0.74321603 0.74411131 0.74506566 0.74607886 0.74715067\n",
            " 0.74828083 0.74946909]\n",
            "Train NRMSE Variance :  2.5242518164476207e-05\n",
            "Train NRMSE Mean :  0.7775818081784878\n",
            "Test NRMSE Variance :  1.5068317902549996e-05\n",
            " Test NRMSE Mean :  0.7415459480758345\n"
          ]
        },
        {
          "output_type": "display_data",
          "data": {
            "text/plain": [
              "<Figure size 432x288 with 1 Axes>"
            ],
            "image/png": "[encoded data removed]"
          },
          "metadata": {
            "needs_background": "light"
          }
        },
        {
          "output_type": "display_data",
          "data": {
            "text/plain": [
              "<Figure size 432x288 with 1 Axes>"
            ],
            "image/png": "[encoded data removed]"
          },
          "metadata": {
            "needs_background": "light"
          }
        },
        {
          "output_type": "display_data",
          "data": {
            "text/plain": [
              "<Figure size 288x144 with 0 Axes>"
            ]
          },
          "metadata": {}
        }
      ]
    },
    {
      "cell_type": "markdown",
      "source": [
        "Observation : \n",
        "- Optimum value of lambda1 turns to be around 0 \\\n",
        "- Change in eta causes lot of change in characteristic curve(dont decrease too much)"
      ],
      "metadata": {
        "id": "mO15kap9sP9_"
      }
    },
    {
      "cell_type": "markdown",
      "source": [
        "m) Training and validation NRMSE for optimal lambda2 with noise variance"
      ],
      "metadata": {
        "id": "QAk5aThwg2PV"
      }
    },
    {
      "cell_type": "code",
      "source": [
        "n= 20 #Here n is number of noise variance values(variable)\n",
        "#Size of this matrix should be eqal to #n\n",
        "nrmse_train_seed=np.zeros(n)\n",
        "nrmse_test_seed=np.zeros(n)\n",
        "np.random.seed(1)\n",
        "in_x_l = input_x(1000,5)#dont change input\n",
        "w_l = np.array([1,2,4,3,.29])\n",
        "w0=10\n",
        "eta = 0.000001\n",
        "lambda2 = 1 #optimal\n",
        "lambda1 = 0.1\n",
        "min_change_NRMSE = 0.00000001\n",
        "max_iter=1000\n",
        "for i in range(n):\n",
        "  t_l=out_t(in_x_l,w_l,w0,i)\n",
        "  x_train, x_val, t_train, t_test = train_test_split(in_x_l, t_l, test_size=0.2)\n",
        "  final_w_train, final_nrmse_train ,no_iter_train= linear_regression_grad_desc(x_train, t_train, w_l, eta, lambda2, lambda1, min_change_NRMSE,max_iter)\n",
        "  t_predict=lin_reg(x_val,final_w_train)\n",
        "  final_nrmse_test=np.sqrt((mean_square_error(t_test,t_predict)))/np.var(t_test)\n",
        "  nrmse_train_seed[i]=final_nrmse_train\n",
        "  nrmse_test_seed[i]=final_nrmse_test\n",
        "\n",
        "print(\"Train NRMSE with increasing noise Variance : \",nrmse_train_seed )\n",
        "print(\"Test NRMSE with increasing noise Variance : \",nrmse_test_seed )\n",
        "print(\"Train NRMSE Variance : \",np.var(nrmse_train_seed))\n",
        "print(\"Train NRMSE Mean : \",np.mean(nrmse_train_seed))\n",
        "print(\"Test NRMSE Variance : \",np.var(nrmse_test_seed))\n",
        "print(\" Test NRMSE Mean : \",np.mean(nrmse_test_seed))\n",
        "\n",
        "# create the figure and axes\n",
        "fig, ax = plt.subplots()\n",
        "# create the boxplots\n",
        "bp1 = ax.boxplot(nrmse_train_seed, positions=[1], widths=0.6)\n",
        "bp2 = ax.boxplot(nrmse_test_seed, positions=[2], widths=0.6)\n",
        "# customize the boxplots\n",
        "for box in bp1['boxes']:\n",
        "    box.set(color='blue', linewidth=2)\n",
        "for box in bp2['boxes']:\n",
        "    box.set(color='green', linewidth=2)\n",
        "# set the x-axis labels\n",
        "ax.set_xticklabels(['Train Data', 'Test Data'])\n",
        "plt.show()\n",
        "plt.title('Change in nrmse due to increase in Noise Variance')\n",
        "plt.xlabel(\"Noise Variance\")\n",
        "plt.ylabel(\"NRMSE\")\n",
        "plt.plot(np.arange(n),nrmse_train_seed,label ='Train Data')\n",
        "plt.plot(np.arange(n),nrmse_test_seed,label ='Test Data')\n",
        "plt.legend(loc = \"upper right\")\n",
        "plt.figure(figsize=(4, 2))\n",
        "plt.show()"
      ],
      "metadata": {
        "id": "ahE_BjKGuabC",
        "colab": {
          "base_uri": "https://localhost:8080/",
          "height": 780
        },
        "outputId": "8b6ec996-c11e-4361-aaa3-fa3541863be5"
      },
      "execution_count": 33,
      "outputs": [
        {
          "output_type": "stream",
          "name": "stdout",
          "text": [
            "Train NRMSE with increasing noise Variance :  [0.01253414 0.01210914 0.01266917 0.01307146 0.01281558 0.01295113\n",
            " 0.01395326 0.0143174  0.01464929 0.01488991 0.01483351 0.01611378\n",
            " 0.01605051 0.01629265 0.01547864 0.01737626 0.01849871 0.01897149\n",
            " 0.01751549 0.01804906]\n",
            "Test NRMSE with increasing noise Variance :  [0.01155831 0.01381115 0.01178431 0.01203627 0.01409201 0.01277968\n",
            " 0.01419738 0.01499895 0.01570862 0.01548339 0.02086379 0.01756329\n",
            " 0.01550256 0.01604185 0.02089785 0.01966076 0.01811092 0.01656052\n",
            " 0.01872749 0.01809909]\n",
            "Train NRMSE Variance :  4.3659633368298435e-06\n",
            "Train NRMSE Mean :  0.015157029473653837\n",
            "Test NRMSE Variance :  7.842821794616715e-06\n",
            " Test NRMSE Mean :  0.015923909468875487\n"
          ]
        },
        {
          "output_type": "display_data",
          "data": {
            "text/plain": [
              "<Figure size 432x288 with 1 Axes>"
            ],
            "image/png": "[encoded data removed]"
          },
          "metadata": {
            "needs_background": "light"
          }
        },
        {
          "output_type": "display_data",
          "data": {
            "text/plain": [
              "<Figure size 432x288 with 1 Axes>"
            ],
            "image/png": "[encoded data removed]"
          },
          "metadata": {
            "needs_background": "light"
          }
        },
        {
          "output_type": "display_data",
          "data": {
            "text/plain": [
              "<Figure size 288x144 with 0 Axes>"
            ]
          },
          "metadata": {}
        }
      ]
    },
    {
      "cell_type": "markdown",
      "source": [
        "Observation : As noise variance increases both test and train NRMSE increases and the variance in test data is much higher than that of train data."
      ],
      "metadata": {
        "id": "UICZxTBDqlWD"
      }
    },
    {
      "cell_type": "markdown",
      "source": [
        "n) Training and validation NRMSE for optimal lambda1 with noise variance "
      ],
      "metadata": {
        "id": "TFWd2-I9g92G"
      }
    },
    {
      "cell_type": "code",
      "source": [
        "n= 50 #Here n is number of noise variance values(variable)\n",
        "#Size of this matrix should be eqal to #n\n",
        "nrmse_train_seed=np.zeros(n)\n",
        "nrmse_test_seed=np.zeros(n)\n",
        "np.random.seed(1)\n",
        "in_x_l = input_x(1000,5)#dont change input\n",
        "w_l = np.array([1,.2,.4,3,.29])\n",
        "w0=10\n",
        "eta = 0.001\n",
        "lambda2 = 1 #optimal\n",
        "lambda1 = 0.1#taken near to zero\n",
        "min_change_NRMSE = 0.00000001\n",
        "max_iter=1000\n",
        "for i in range(n):\n",
        "  t_l=out_t(in_x_l,w_l,w0,i)\n",
        "  x_train, x_val, t_train, t_test = train_test_split(in_x_l, t_l, test_size=0.2)\n",
        "  final_w_train, final_nrmse_train ,no_iter_train= linear_regression_grad_desc(x_train, t_train, w_l, eta, lambda2, lambda1, min_change_NRMSE,max_iter)\n",
        "  t_predict=lin_reg(x_val,final_w_train)\n",
        "  final_nrmse_test=np.sqrt((mean_square_error(t_test,t_predict)))/np.var(t_test)\n",
        "  nrmse_train_seed[i]=final_nrmse_train\n",
        "  nrmse_test_seed[i]=final_nrmse_test\n",
        "\n",
        "print(\"Train NRMSE with increasing noise Variance : \",nrmse_train_seed )\n",
        "print(\"Test NRMSE with increasing noise Variance : \",nrmse_test_seed )\n",
        "print(\"Train NRMSE Variance : \",np.var(nrmse_train_seed))\n",
        "print(\"Train NRMSE Mean : \",np.mean(nrmse_train_seed))\n",
        "print(\"Test NRMSE Variance : \",np.var(nrmse_test_seed))\n",
        "print(\" Test NRMSE Mean : \",np.mean(nrmse_test_seed))\n",
        "\n",
        "# create the figure and axes\n",
        "fig, ax = plt.subplots()\n",
        "# create the boxplots\n",
        "bp1 = ax.boxplot(nrmse_train_seed, positions=[1], widths=0.6)\n",
        "bp2 = ax.boxplot(nrmse_test_seed, positions=[2], widths=0.6)\n",
        "# customize the boxplots\n",
        "for box in bp1['boxes']:\n",
        "    box.set(color='blue', linewidth=2)\n",
        "for box in bp2['boxes']:\n",
        "    box.set(color='green', linewidth=2)\n",
        "# set the x-axis labels\n",
        "ax.set_xticklabels(['Train Data', 'Test Data'])\n",
        "plt.show()\n",
        "plt.title('Change in nrmse due to increase in Noise Variance')\n",
        "plt.xlabel(\"Noise Variance\")\n",
        "plt.ylabel(\"NRMSE\")\n",
        "plt.plot(np.arange(n),nrmse_train_seed,label ='Train Data')\n",
        "plt.plot(np.arange(n),nrmse_test_seed,label ='Test Data')\n",
        "plt.legend(loc = \"upper right\")\n",
        "plt.figure(figsize=(4, 2))\n",
        "plt.show()"
      ],
      "metadata": {
        "colab": {
          "base_uri": "https://localhost:8080/",
          "height": 963
        },
        "id": "7Q4DBMlk3qkE",
        "outputId": "8132a754-38b6-4539-8ce1-7d1b300af966"
      },
      "execution_count": 34,
      "outputs": [
        {
          "output_type": "stream",
          "name": "stdout",
          "text": [
            "Train NRMSE with increasing noise Variance :  [0.01583491 0.01657399 0.0180611  0.01910525 0.02084737 0.02247416\n",
            " 0.02686922 0.02769893 0.02800147 0.03144855 0.03204839 0.03216196\n",
            " 0.03243424 0.03330494 0.03165402 0.03240171 0.03403462 0.0318081\n",
            " 0.03218277 0.0324144  0.03331849 0.02999611 0.03006896 0.03163395\n",
            " 0.0295232  0.0288939  0.02862654 0.02648576 0.02600145 0.02706358\n",
            " 0.02577964 0.02670405 0.02559906 0.02609578 0.02381823 0.02364296\n",
            " 0.02282599 0.02361915 0.02291162 0.02340805 0.021596   0.02091745\n",
            " 0.02172222 0.02074938 0.02008152 0.02005596 0.01937419 0.01961613\n",
            " 0.02038804 0.0180321 ]\n",
            "Test NRMSE with increasing noise Variance :  [0.01551931 0.01653799 0.01636678 0.02206168 0.02619282 0.02575345\n",
            " 0.0251658  0.03037463 0.03435761 0.03279609 0.03596632 0.03793978\n",
            " 0.02921949 0.03344183 0.03807408 0.03724742 0.03835869 0.03621511\n",
            " 0.03182869 0.03135908 0.03241247 0.0315444  0.03081041 0.0256249\n",
            " 0.02946158 0.0301853  0.02718989 0.02996508 0.02667541 0.02871212\n",
            " 0.02515597 0.02587745 0.02351978 0.02602336 0.02411194 0.02280302\n",
            " 0.022892   0.02296606 0.02255284 0.02413512 0.02210178 0.02173349\n",
            " 0.01915097 0.02041404 0.02202964 0.01929711 0.01865335 0.01932408\n",
            " 0.01799512 0.01941882]\n",
            "Train NRMSE Variance :  2.6558968682913632e-05\n",
            "Train NRMSE Mean :  0.025798191454700626\n",
            "Test NRMSE Variance :  3.8216480155695004e-05\n",
            " Test NRMSE Mean :  0.026550282549693393\n"
          ]
        },
        {
          "output_type": "display_data",
          "data": {
            "text/plain": [
              "<Figure size 432x288 with 1 Axes>"
            ],
            "image/png": "[encoded data removed]"
          },
          "metadata": {
            "needs_background": "light"
          }
        },
        {
          "output_type": "display_data",
          "data": {
            "text/plain": [
              "<Figure size 432x288 with 1 Axes>"
            ],
            "image/png": "[encoded data removed]"
          },
          "metadata": {
            "needs_background": "light"
          }
        },
        {
          "output_type": "display_data",
          "data": {
            "text/plain": [
              "<Figure size 288x144 with 0 Axes>"
            ]
          },
          "metadata": {}
        }
      ]
    },
    {
      "cell_type": "markdown",
      "source": [
        "Observation : \n",
        "- Firstly with noise variance both test and train data NRMSE increases upto variance 10 and then decreases fastly.\n",
        "- Here also variance in test data is higher than that of train data. "
      ],
      "metadata": {
        "id": "eelV52YLpXcG"
      }
    },
    {
      "cell_type": "markdown",
      "source": [
        "o) Experiment (f) but, this time with number of training samples and number of variables \\\n",
        "**Skipped**"
      ],
      "metadata": {
        "id": "gy-6ug0Eg_CW"
      }
    },
    {
      "cell_type": "markdown",
      "source": [],
      "metadata": {
        "id": "GAh9pMdRfiH1"
      }
    },
    {
      "cell_type": "markdown",
      "source": [
        "#### **Learning Points**\n",
        "1. First and most important learning is that don't use the randomly generated data for analysis because it will create more confusion whether your code is correct or not.\n",
        "2. Time taken for same samples and dimension for linear regression using pseudo inverse method is way less than time taken using gradient descent method.This can be understood by code size also.\n",
        "3. Learned how to split the input data into training and validation sets and how to validate the model using the validation set.\n",
        "4. Learned how to plot Boxplot for various distributions.\n",
        "5. Learned Linear Regression from Scratch using two methods Pseudo Inverse with L2 Regularization and Gradiet Descent method.\n",
        "6. Learned how to manage and vary the hyperparameters to get the optimal results.\n"
      ],
      "metadata": {
        "id": "T30-6Hdq1lxm"
      }
    },
    {
      "cell_type": "markdown",
      "metadata": {
        "id": "iys9SZRl2htc"
      },
      "source": [
        "Resources :\n",
        "1. https://towardsdatascience.com/simple-linear-regression-in-python-numpy-only-130a988c0212\n",
        "2. https://towardsdatascience.com/gradient-descent-from-scratch-e8b75fa986cc\n",
        "3. https://youtu.be/xrPZbHrxrWo\n",
        "4. https://towardsdatascience.com/linear-regression-using-gradient-descent-97a6c8700931\n",
        "5. Boxplot code taken from : https://matplotlib.org/stable/gallery/statistics/boxplot_demo.html\n",
        "6. Understood code snippets from above sources on ChatGPT"
      ]
    },
    {
      "cell_type": "markdown",
      "source": [
        "Code Discussed with friends : Only discussed 13th question theory and maths implementation part.\n",
        "1. Dinesh Kumar Panwar 22M1080\n",
        "2. Karra Maneesha 22M1076"
      ],
      "metadata": {
        "id": "VQH1i8_6syAS"
      }
    }
  ],
  "metadata": {
    "colab": {
      "provenance": []
    },
    "kernelspec": {
      "display_name": "Python 3",
      "name": "python3"
    },
    "language_info": {
      "name": "python"
    }
  },
  "nbformat": 4,
  "nbformat_minor": 0
}